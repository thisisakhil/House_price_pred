{
 "cells": [
  {
   "attachments": {},
   "cell_type": "markdown",
   "metadata": {},
   "source": [
    "<center><h1 style=\"font-size:35px; font-family: 'Times New Roman'; letter-spacing: 0.1em;\">House Price Prediction 🏠 Modeling</h1></center>"
   ]
  },
  {
   "attachments": {},
   "cell_type": "markdown",
   "metadata": {},
   "source": [
    "<h1 style=\"font-family: 'Times New Roman'; letter-spacing: 0.08em;\">Importing the required Libraries, Metrics</h1>"
   ]
  },
  {
   "cell_type": "code",
   "execution_count": 1,
   "metadata": {},
   "outputs": [
    {
     "name": "stdout",
     "output_type": "stream",
     "text": [
      "Collecting numpy==1.26.1 (from -r requirements.txt (line 1))\n",
      "  Downloading numpy-1.26.1-cp311-cp311-win_amd64.whl.metadata (61 kB)\n",
      "     ---------------------------------------- 0.0/61.2 kB ? eta -:--:--\n",
      "     ------ --------------------------------- 10.2/61.2 kB ? eta -:--:--\n",
      "     ------------------------- ------------ 41.0/61.2 kB 393.8 kB/s eta 0:00:01\n",
      "     -------------------------------------- 61.2/61.2 kB 463.2 kB/s eta 0:00:00\n",
      "Collecting pandas==2.1.2 (from -r requirements.txt (line 2))\n",
      "  Downloading pandas-2.1.2-cp311-cp311-win_amd64.whl.metadata (18 kB)\n",
      "Collecting seaborn==0.13.0 (from -r requirements.txt (line 3))\n",
      "  Downloading seaborn-0.13.0-py3-none-any.whl.metadata (5.3 kB)\n",
      "Collecting matplotlib==3.8.1 (from -r requirements.txt (line 4))\n",
      "  Downloading matplotlib-3.8.1-cp311-cp311-win_amd64.whl.metadata (5.9 kB)\n",
      "Collecting scikit-learn==1.3.2 (from -r requirements.txt (line 5))\n",
      "  Downloading scikit_learn-1.3.2-cp311-cp311-win_amd64.whl.metadata (11 kB)\n",
      "Collecting xgboost==2.0.2 (from -r requirements.txt (line 6))\n",
      "  Downloading xgboost-2.0.2-py3-none-win_amd64.whl.metadata (2.0 kB)\n",
      "Requirement already satisfied: streamlit in c:\\users\\dreamtns_akhil\\appdata\\local\\packages\\pythonsoftwarefoundation.python.3.11_qbz5n2kfra8p0\\localcache\\local-packages\\python311\\site-packages (from -r requirements.txt (line 7)) (1.25.0)\n",
      "Requirement already satisfied: joblib in c:\\users\\dreamtns_akhil\\appdata\\local\\packages\\pythonsoftwarefoundation.python.3.11_qbz5n2kfra8p0\\localcache\\local-packages\\python311\\site-packages (from -r requirements.txt (line 8)) (1.2.0)\n",
      "Requirement already satisfied: python-dateutil>=2.8.2 in c:\\users\\dreamtns_akhil\\appdata\\local\\packages\\pythonsoftwarefoundation.python.3.11_qbz5n2kfra8p0\\localcache\\local-packages\\python311\\site-packages (from pandas==2.1.2->-r requirements.txt (line 2)) (2.8.2)\n",
      "Requirement already satisfied: pytz>=2020.1 in c:\\users\\dreamtns_akhil\\appdata\\local\\packages\\pythonsoftwarefoundation.python.3.11_qbz5n2kfra8p0\\localcache\\local-packages\\python311\\site-packages (from pandas==2.1.2->-r requirements.txt (line 2)) (2023.3)\n",
      "Requirement already satisfied: tzdata>=2022.1 in c:\\users\\dreamtns_akhil\\appdata\\local\\packages\\pythonsoftwarefoundation.python.3.11_qbz5n2kfra8p0\\localcache\\local-packages\\python311\\site-packages (from pandas==2.1.2->-r requirements.txt (line 2)) (2023.3)\n",
      "Requirement already satisfied: contourpy>=1.0.1 in c:\\users\\dreamtns_akhil\\appdata\\local\\packages\\pythonsoftwarefoundation.python.3.11_qbz5n2kfra8p0\\localcache\\local-packages\\python311\\site-packages (from matplotlib==3.8.1->-r requirements.txt (line 4)) (1.0.7)\n",
      "Requirement already satisfied: cycler>=0.10 in c:\\users\\dreamtns_akhil\\appdata\\local\\packages\\pythonsoftwarefoundation.python.3.11_qbz5n2kfra8p0\\localcache\\local-packages\\python311\\site-packages (from matplotlib==3.8.1->-r requirements.txt (line 4)) (0.11.0)\n",
      "Requirement already satisfied: fonttools>=4.22.0 in c:\\users\\dreamtns_akhil\\appdata\\local\\packages\\pythonsoftwarefoundation.python.3.11_qbz5n2kfra8p0\\localcache\\local-packages\\python311\\site-packages (from matplotlib==3.8.1->-r requirements.txt (line 4)) (4.39.3)\n",
      "Requirement already satisfied: kiwisolver>=1.3.1 in c:\\users\\dreamtns_akhil\\appdata\\local\\packages\\pythonsoftwarefoundation.python.3.11_qbz5n2kfra8p0\\localcache\\local-packages\\python311\\site-packages (from matplotlib==3.8.1->-r requirements.txt (line 4)) (1.4.4)\n",
      "Requirement already satisfied: packaging>=20.0 in c:\\users\\dreamtns_akhil\\appdata\\local\\packages\\pythonsoftwarefoundation.python.3.11_qbz5n2kfra8p0\\localcache\\local-packages\\python311\\site-packages (from matplotlib==3.8.1->-r requirements.txt (line 4)) (23.0)\n",
      "Requirement already satisfied: pillow>=8 in c:\\users\\dreamtns_akhil\\appdata\\local\\packages\\pythonsoftwarefoundation.python.3.11_qbz5n2kfra8p0\\localcache\\local-packages\\python311\\site-packages (from matplotlib==3.8.1->-r requirements.txt (line 4)) (9.5.0)\n",
      "Requirement already satisfied: pyparsing>=2.3.1 in c:\\users\\dreamtns_akhil\\appdata\\local\\packages\\pythonsoftwarefoundation.python.3.11_qbz5n2kfra8p0\\localcache\\local-packages\\python311\\site-packages (from matplotlib==3.8.1->-r requirements.txt (line 4)) (3.0.9)\n",
      "Requirement already satisfied: scipy>=1.5.0 in c:\\users\\dreamtns_akhil\\appdata\\local\\packages\\pythonsoftwarefoundation.python.3.11_qbz5n2kfra8p0\\localcache\\local-packages\\python311\\site-packages (from scikit-learn==1.3.2->-r requirements.txt (line 5)) (1.10.1)\n",
      "Requirement already satisfied: threadpoolctl>=2.0.0 in c:\\users\\dreamtns_akhil\\appdata\\local\\packages\\pythonsoftwarefoundation.python.3.11_qbz5n2kfra8p0\\localcache\\local-packages\\python311\\site-packages (from scikit-learn==1.3.2->-r requirements.txt (line 5)) (3.1.0)\n",
      "Requirement already satisfied: altair<6,>=4.0 in c:\\users\\dreamtns_akhil\\appdata\\local\\packages\\pythonsoftwarefoundation.python.3.11_qbz5n2kfra8p0\\localcache\\local-packages\\python311\\site-packages (from streamlit->-r requirements.txt (line 7)) (5.0.1)\n",
      "Requirement already satisfied: blinker<2,>=1.0.0 in c:\\users\\dreamtns_akhil\\appdata\\local\\packages\\pythonsoftwarefoundation.python.3.11_qbz5n2kfra8p0\\localcache\\local-packages\\python311\\site-packages (from streamlit->-r requirements.txt (line 7)) (1.6.2)\n",
      "Requirement already satisfied: cachetools<6,>=4.0 in c:\\users\\dreamtns_akhil\\appdata\\local\\packages\\pythonsoftwarefoundation.python.3.11_qbz5n2kfra8p0\\localcache\\local-packages\\python311\\site-packages (from streamlit->-r requirements.txt (line 7)) (5.3.0)\n",
      "Requirement already satisfied: click<9,>=7.0 in c:\\users\\dreamtns_akhil\\appdata\\local\\packages\\pythonsoftwarefoundation.python.3.11_qbz5n2kfra8p0\\localcache\\local-packages\\python311\\site-packages (from streamlit->-r requirements.txt (line 7)) (8.1.3)\n",
      "Requirement already satisfied: importlib-metadata<7,>=1.4 in c:\\users\\dreamtns_akhil\\appdata\\local\\packages\\pythonsoftwarefoundation.python.3.11_qbz5n2kfra8p0\\localcache\\local-packages\\python311\\site-packages (from streamlit->-r requirements.txt (line 7)) (6.8.0)\n",
      "Requirement already satisfied: protobuf<5,>=3.20 in c:\\users\\dreamtns_akhil\\appdata\\local\\packages\\pythonsoftwarefoundation.python.3.11_qbz5n2kfra8p0\\localcache\\local-packages\\python311\\site-packages (from streamlit->-r requirements.txt (line 7)) (4.22.1)\n",
      "Requirement already satisfied: pyarrow>=6.0 in c:\\users\\dreamtns_akhil\\appdata\\local\\packages\\pythonsoftwarefoundation.python.3.11_qbz5n2kfra8p0\\localcache\\local-packages\\python311\\site-packages (from streamlit->-r requirements.txt (line 7)) (13.0.0)\n",
      "Requirement already satisfied: pympler<2,>=0.9 in c:\\users\\dreamtns_akhil\\appdata\\local\\packages\\pythonsoftwarefoundation.python.3.11_qbz5n2kfra8p0\\localcache\\local-packages\\python311\\site-packages (from streamlit->-r requirements.txt (line 7)) (1.0.1)\n",
      "Requirement already satisfied: requests<3,>=2.18 in c:\\users\\dreamtns_akhil\\appdata\\local\\packages\\pythonsoftwarefoundation.python.3.11_qbz5n2kfra8p0\\localcache\\local-packages\\python311\\site-packages (from streamlit->-r requirements.txt (line 7)) (2.31.0)\n",
      "Requirement already satisfied: rich<14,>=10.14.0 in c:\\users\\dreamtns_akhil\\appdata\\local\\packages\\pythonsoftwarefoundation.python.3.11_qbz5n2kfra8p0\\localcache\\local-packages\\python311\\site-packages (from streamlit->-r requirements.txt (line 7)) (13.5.2)\n",
      "Requirement already satisfied: tenacity<9,>=8.1.0 in c:\\users\\dreamtns_akhil\\appdata\\local\\packages\\pythonsoftwarefoundation.python.3.11_qbz5n2kfra8p0\\localcache\\local-packages\\python311\\site-packages (from streamlit->-r requirements.txt (line 7)) (8.2.3)\n",
      "Requirement already satisfied: toml<2,>=0.10.1 in c:\\users\\dreamtns_akhil\\appdata\\local\\packages\\pythonsoftwarefoundation.python.3.11_qbz5n2kfra8p0\\localcache\\local-packages\\python311\\site-packages (from streamlit->-r requirements.txt (line 7)) (0.10.2)\n",
      "Requirement already satisfied: typing-extensions<5,>=4.1.0 in c:\\users\\dreamtns_akhil\\appdata\\local\\packages\\pythonsoftwarefoundation.python.3.11_qbz5n2kfra8p0\\localcache\\local-packages\\python311\\site-packages (from streamlit->-r requirements.txt (line 7)) (4.8.0)\n",
      "Requirement already satisfied: tzlocal<5,>=1.1 in c:\\users\\dreamtns_akhil\\appdata\\local\\packages\\pythonsoftwarefoundation.python.3.11_qbz5n2kfra8p0\\localcache\\local-packages\\python311\\site-packages (from streamlit->-r requirements.txt (line 7)) (4.3.1)\n",
      "Requirement already satisfied: validators<1,>=0.2 in c:\\users\\dreamtns_akhil\\appdata\\local\\packages\\pythonsoftwarefoundation.python.3.11_qbz5n2kfra8p0\\localcache\\local-packages\\python311\\site-packages (from streamlit->-r requirements.txt (line 7)) (0.21.2)\n",
      "Requirement already satisfied: gitpython!=3.1.19,<4,>=3.0.7 in c:\\users\\dreamtns_akhil\\appdata\\local\\packages\\pythonsoftwarefoundation.python.3.11_qbz5n2kfra8p0\\localcache\\local-packages\\python311\\site-packages (from streamlit->-r requirements.txt (line 7)) (3.1.32)\n",
      "Requirement already satisfied: pydeck<1,>=0.8 in c:\\users\\dreamtns_akhil\\appdata\\local\\packages\\pythonsoftwarefoundation.python.3.11_qbz5n2kfra8p0\\localcache\\local-packages\\python311\\site-packages (from streamlit->-r requirements.txt (line 7)) (0.8.0)\n",
      "Requirement already satisfied: tornado<7,>=6.0.3 in c:\\users\\dreamtns_akhil\\appdata\\local\\packages\\pythonsoftwarefoundation.python.3.11_qbz5n2kfra8p0\\localcache\\local-packages\\python311\\site-packages (from streamlit->-r requirements.txt (line 7)) (6.3.3)\n",
      "Requirement already satisfied: watchdog>=2.1.5 in c:\\users\\dreamtns_akhil\\appdata\\local\\packages\\pythonsoftwarefoundation.python.3.11_qbz5n2kfra8p0\\localcache\\local-packages\\python311\\site-packages (from streamlit->-r requirements.txt (line 7)) (3.0.0)\n",
      "Requirement already satisfied: jinja2 in c:\\users\\dreamtns_akhil\\appdata\\local\\packages\\pythonsoftwarefoundation.python.3.11_qbz5n2kfra8p0\\localcache\\local-packages\\python311\\site-packages (from altair<6,>=4.0->streamlit->-r requirements.txt (line 7)) (3.1.2)\n",
      "Requirement already satisfied: jsonschema>=3.0 in c:\\users\\dreamtns_akhil\\appdata\\local\\packages\\pythonsoftwarefoundation.python.3.11_qbz5n2kfra8p0\\localcache\\local-packages\\python311\\site-packages (from altair<6,>=4.0->streamlit->-r requirements.txt (line 7)) (4.17.3)\n",
      "Requirement already satisfied: toolz in c:\\users\\dreamtns_akhil\\appdata\\local\\packages\\pythonsoftwarefoundation.python.3.11_qbz5n2kfra8p0\\localcache\\local-packages\\python311\\site-packages (from altair<6,>=4.0->streamlit->-r requirements.txt (line 7)) (0.12.0)\n",
      "Requirement already satisfied: colorama in c:\\users\\dreamtns_akhil\\appdata\\local\\packages\\pythonsoftwarefoundation.python.3.11_qbz5n2kfra8p0\\localcache\\local-packages\\python311\\site-packages (from click<9,>=7.0->streamlit->-r requirements.txt (line 7)) (0.4.6)\n",
      "Requirement already satisfied: gitdb<5,>=4.0.1 in c:\\users\\dreamtns_akhil\\appdata\\local\\packages\\pythonsoftwarefoundation.python.3.11_qbz5n2kfra8p0\\localcache\\local-packages\\python311\\site-packages (from gitpython!=3.1.19,<4,>=3.0.7->streamlit->-r requirements.txt (line 7)) (4.0.10)\n",
      "Requirement already satisfied: zipp>=0.5 in c:\\users\\dreamtns_akhil\\appdata\\local\\packages\\pythonsoftwarefoundation.python.3.11_qbz5n2kfra8p0\\localcache\\local-packages\\python311\\site-packages (from importlib-metadata<7,>=1.4->streamlit->-r requirements.txt (line 7)) (3.16.2)\n",
      "Requirement already satisfied: six>=1.5 in c:\\users\\dreamtns_akhil\\appdata\\local\\packages\\pythonsoftwarefoundation.python.3.11_qbz5n2kfra8p0\\localcache\\local-packages\\python311\\site-packages (from python-dateutil>=2.8.2->pandas==2.1.2->-r requirements.txt (line 2)) (1.16.0)\n",
      "Requirement already satisfied: charset-normalizer<4,>=2 in c:\\users\\dreamtns_akhil\\appdata\\local\\packages\\pythonsoftwarefoundation.python.3.11_qbz5n2kfra8p0\\localcache\\local-packages\\python311\\site-packages (from requests<3,>=2.18->streamlit->-r requirements.txt (line 7)) (2.0.12)\n",
      "Requirement already satisfied: idna<4,>=2.5 in c:\\users\\dreamtns_akhil\\appdata\\local\\packages\\pythonsoftwarefoundation.python.3.11_qbz5n2kfra8p0\\localcache\\local-packages\\python311\\site-packages (from requests<3,>=2.18->streamlit->-r requirements.txt (line 7)) (3.4)\n",
      "Requirement already satisfied: urllib3<3,>=1.21.1 in c:\\users\\dreamtns_akhil\\appdata\\local\\packages\\pythonsoftwarefoundation.python.3.11_qbz5n2kfra8p0\\localcache\\local-packages\\python311\\site-packages (from requests<3,>=2.18->streamlit->-r requirements.txt (line 7)) (1.26.15)\n",
      "Requirement already satisfied: certifi>=2017.4.17 in c:\\users\\dreamtns_akhil\\appdata\\local\\packages\\pythonsoftwarefoundation.python.3.11_qbz5n2kfra8p0\\localcache\\local-packages\\python311\\site-packages (from requests<3,>=2.18->streamlit->-r requirements.txt (line 7)) (2022.12.7)\n",
      "Requirement already satisfied: markdown-it-py>=2.2.0 in c:\\users\\dreamtns_akhil\\appdata\\local\\packages\\pythonsoftwarefoundation.python.3.11_qbz5n2kfra8p0\\localcache\\local-packages\\python311\\site-packages (from rich<14,>=10.14.0->streamlit->-r requirements.txt (line 7)) (3.0.0)\n",
      "Requirement already satisfied: pygments<3.0.0,>=2.13.0 in c:\\users\\dreamtns_akhil\\appdata\\local\\packages\\pythonsoftwarefoundation.python.3.11_qbz5n2kfra8p0\\localcache\\local-packages\\python311\\site-packages (from rich<14,>=10.14.0->streamlit->-r requirements.txt (line 7)) (2.14.0)\n",
      "Requirement already satisfied: pytz-deprecation-shim in c:\\users\\dreamtns_akhil\\appdata\\local\\packages\\pythonsoftwarefoundation.python.3.11_qbz5n2kfra8p0\\localcache\\local-packages\\python311\\site-packages (from tzlocal<5,>=1.1->streamlit->-r requirements.txt (line 7)) (0.1.0.post0)\n",
      "Requirement already satisfied: smmap<6,>=3.0.1 in c:\\users\\dreamtns_akhil\\appdata\\local\\packages\\pythonsoftwarefoundation.python.3.11_qbz5n2kfra8p0\\localcache\\local-packages\\python311\\site-packages (from gitdb<5,>=4.0.1->gitpython!=3.1.19,<4,>=3.0.7->streamlit->-r requirements.txt (line 7)) (5.0.0)\n",
      "Requirement already satisfied: MarkupSafe>=2.0 in c:\\users\\dreamtns_akhil\\appdata\\local\\packages\\pythonsoftwarefoundation.python.3.11_qbz5n2kfra8p0\\localcache\\local-packages\\python311\\site-packages (from jinja2->altair<6,>=4.0->streamlit->-r requirements.txt (line 7)) (2.1.2)\n",
      "Requirement already satisfied: attrs>=17.4.0 in c:\\users\\dreamtns_akhil\\appdata\\local\\packages\\pythonsoftwarefoundation.python.3.11_qbz5n2kfra8p0\\localcache\\local-packages\\python311\\site-packages (from jsonschema>=3.0->altair<6,>=4.0->streamlit->-r requirements.txt (line 7)) (22.2.0)\n",
      "Requirement already satisfied: pyrsistent!=0.17.0,!=0.17.1,!=0.17.2,>=0.14.0 in c:\\users\\dreamtns_akhil\\appdata\\local\\packages\\pythonsoftwarefoundation.python.3.11_qbz5n2kfra8p0\\localcache\\local-packages\\python311\\site-packages (from jsonschema>=3.0->altair<6,>=4.0->streamlit->-r requirements.txt (line 7)) (0.19.3)\n",
      "Requirement already satisfied: mdurl~=0.1 in c:\\users\\dreamtns_akhil\\appdata\\local\\packages\\pythonsoftwarefoundation.python.3.11_qbz5n2kfra8p0\\localcache\\local-packages\\python311\\site-packages (from markdown-it-py>=2.2.0->rich<14,>=10.14.0->streamlit->-r requirements.txt (line 7)) (0.1.2)\n",
      "Downloading numpy-1.26.1-cp311-cp311-win_amd64.whl (15.8 MB)\n",
      "   ---------------------------------------- 0.0/15.8 MB ? eta -:--:--\n",
      "    --------------------------------------- 0.2/15.8 MB 7.6 MB/s eta 0:00:03\n",
      "   --- ------------------------------------ 1.4/15.8 MB 14.8 MB/s eta 0:00:01\n",
      "   ----- ---------------------------------- 2.3/15.8 MB 16.3 MB/s eta 0:00:01\n",
      "   ------- -------------------------------- 2.9/15.8 MB 16.9 MB/s eta 0:00:01\n",
      "   --------- ------------------------------ 3.9/15.8 MB 16.8 MB/s eta 0:00:01\n",
      "   ----------- ---------------------------- 4.6/15.8 MB 16.5 MB/s eta 0:00:01\n",
      "   ------------ --------------------------- 5.1/15.8 MB 17.0 MB/s eta 0:00:01\n",
      "   ---------------- ----------------------- 6.4/15.8 MB 17.7 MB/s eta 0:00:01\n",
      "   ------------------ --------------------- 7.1/15.8 MB 16.9 MB/s eta 0:00:01\n",
      "   -------------------- ------------------- 8.1/15.8 MB 17.9 MB/s eta 0:00:01\n",
      "   ---------------------- ----------------- 9.0/15.8 MB 17.9 MB/s eta 0:00:01\n",
      "   ------------------------ --------------- 9.6/15.8 MB 17.5 MB/s eta 0:00:01\n",
      "   -------------------------- ------------- 10.4/15.8 MB 18.2 MB/s eta 0:00:01\n",
      "   -------------------------- ------------- 10.5/15.8 MB 17.7 MB/s eta 0:00:01\n",
      "   -------------------------- ------------- 10.5/15.8 MB 17.7 MB/s eta 0:00:01\n",
      "   -------------------------- ------------- 10.5/15.8 MB 17.7 MB/s eta 0:00:01\n",
      "   ------------------------------- -------- 12.4/15.8 MB 16.4 MB/s eta 0:00:01\n",
      "   ------------------------------------ --- 14.4/15.8 MB 18.2 MB/s eta 0:00:01\n",
      "   -------------------------------------- - 15.1/15.8 MB 17.2 MB/s eta 0:00:01\n",
      "   ---------------------------------------  15.8/15.8 MB 17.7 MB/s eta 0:00:01\n",
      "   ---------------------------------------- 15.8/15.8 MB 16.8 MB/s eta 0:00:00\n",
      "Downloading pandas-2.1.2-cp311-cp311-win_amd64.whl (10.6 MB)\n",
      "   ---------------------------------------- 0.0/10.6 MB ? eta -:--:--\n",
      "   ---- ----------------------------------- 1.2/10.6 MB 26.7 MB/s eta 0:00:01\n",
      "   ------- -------------------------------- 2.1/10.6 MB 22.6 MB/s eta 0:00:01\n",
      "   ----------- ---------------------------- 2.9/10.6 MB 21.0 MB/s eta 0:00:01\n",
      "   -------------- ------------------------- 3.8/10.6 MB 20.2 MB/s eta 0:00:01\n",
      "   ----------------- ---------------------- 4.6/10.6 MB 19.7 MB/s eta 0:00:01\n",
      "   -------------------- ------------------- 5.5/10.6 MB 19.4 MB/s eta 0:00:01\n",
      "   ----------------------- ---------------- 6.2/10.6 MB 19.7 MB/s eta 0:00:01\n",
      "   ------------------------- -------------- 6.8/10.6 MB 19.7 MB/s eta 0:00:01\n",
      "   ----------------------------- ---------- 8.0/10.6 MB 19.6 MB/s eta 0:00:01\n",
      "   --------------------------------- ------ 8.8/10.6 MB 19.4 MB/s eta 0:00:01\n",
      "   ------------------------------------ --- 9.7/10.6 MB 19.3 MB/s eta 0:00:01\n",
      "   ---------------------------------------  10.5/10.6 MB 18.7 MB/s eta 0:00:01\n",
      "   ---------------------------------------- 10.6/10.6 MB 17.7 MB/s eta 0:00:00\n",
      "Downloading seaborn-0.13.0-py3-none-any.whl (294 kB)\n",
      "   ---------------------------------------- 0.0/294.6 kB ? eta -:--:--\n",
      "   --------------------------------------- 294.6/294.6 kB 19.0 MB/s eta 0:00:00\n",
      "Downloading matplotlib-3.8.1-cp311-cp311-win_amd64.whl (7.6 MB)\n",
      "   ---------------------------------------- 0.0/7.6 MB ? eta -:--:--\n",
      "   ------- -------------------------------- 1.5/7.6 MB 31.4 MB/s eta 0:00:01\n",
      "   --------- ------------------------------ 1.9/7.6 MB 23.7 MB/s eta 0:00:01\n",
      "   --------------- ------------------------ 3.0/7.6 MB 21.3 MB/s eta 0:00:01\n",
      "   ---------------- ----------------------- 3.1/7.6 MB 22.2 MB/s eta 0:00:01\n",
      "   ---------------- ----------------------- 3.1/7.6 MB 22.2 MB/s eta 0:00:01\n",
      "   ---------------- ----------------------- 3.1/7.6 MB 22.2 MB/s eta 0:00:01\n",
      "   ---------------- ----------------------- 3.1/7.6 MB 22.2 MB/s eta 0:00:01\n",
      "   ---------------- ----------------------- 3.1/7.6 MB 22.2 MB/s eta 0:00:01\n",
      "   ---------------- ----------------------- 3.1/7.6 MB 22.2 MB/s eta 0:00:01\n",
      "   ---------------- ----------------------- 3.1/7.6 MB 22.2 MB/s eta 0:00:01\n",
      "   ---------------- ----------------------- 3.1/7.6 MB 22.2 MB/s eta 0:00:01\n",
      "   ---------------- ----------------------- 3.1/7.6 MB 22.2 MB/s eta 0:00:01\n",
      "   ---------------- ----------------------- 3.1/7.6 MB 22.2 MB/s eta 0:00:01\n",
      "   ------------------ --------------------- 3.5/7.6 MB 5.3 MB/s eta 0:00:01\n",
      "   -------------------- ------------------- 4.0/7.6 MB 5.8 MB/s eta 0:00:01\n",
      "   ------------------------- -------------- 4.9/7.6 MB 6.6 MB/s eta 0:00:01\n",
      "   -------------------------------- ------- 6.2/7.6 MB 8.0 MB/s eta 0:00:01\n",
      "   -------------------------------- ------- 6.3/7.6 MB 7.7 MB/s eta 0:00:01\n",
      "   -------------------------------- ------- 6.3/7.6 MB 7.7 MB/s eta 0:00:01\n",
      "   -------------------------------- ------- 6.3/7.6 MB 7.7 MB/s eta 0:00:01\n",
      "   ---------------------------------- ----- 6.7/7.6 MB 6.8 MB/s eta 0:00:01\n",
      "   -------------------------------------- - 7.4/7.6 MB 7.4 MB/s eta 0:00:01\n",
      "   ---------------------------------------- 7.6/7.6 MB 7.3 MB/s eta 0:00:00\n",
      "Downloading scikit_learn-1.3.2-cp311-cp311-win_amd64.whl (9.2 MB)\n",
      "   ---------------------------------------- 0.0/9.2 MB ? eta -:--:--\n",
      "   ----- ---------------------------------- 1.2/9.2 MB 38.0 MB/s eta 0:00:01\n",
      "   -------- ------------------------------- 2.0/9.2 MB 25.9 MB/s eta 0:00:01\n",
      "   ----------- ---------------------------- 2.5/9.2 MB 23.2 MB/s eta 0:00:01\n",
      "   --------------- ------------------------ 3.6/9.2 MB 20.9 MB/s eta 0:00:01\n",
      "   ------------------- -------------------- 4.5/9.2 MB 20.5 MB/s eta 0:00:01\n",
      "   --------------------- ------------------ 5.0/9.2 MB 20.1 MB/s eta 0:00:01\n",
      "   ------------------------ --------------- 5.7/9.2 MB 19.3 MB/s eta 0:00:01\n",
      "   ----------------------------- ---------- 6.8/9.2 MB 18.9 MB/s eta 0:00:01\n",
      "   -------------------------------- ------- 7.5/9.2 MB 19.3 MB/s eta 0:00:01\n",
      "   ------------------------------------ --- 8.4/9.2 MB 18.5 MB/s eta 0:00:01\n",
      "   ---------------------------------------  9.2/9.2 MB 18.4 MB/s eta 0:00:01\n",
      "   ---------------------------------------- 9.2/9.2 MB 17.3 MB/s eta 0:00:00\n",
      "Downloading xgboost-2.0.2-py3-none-win_amd64.whl (99.8 MB)\n",
      "   ---------------------------------------- 0.0/99.8 MB ? eta -:--:--\n",
      "    --------------------------------------- 1.3/99.8 MB 27.0 MB/s eta 0:00:04\n",
      "    --------------------------------------- 1.8/99.8 MB 23.4 MB/s eta 0:00:05\n",
      "   - -------------------------------------- 3.0/99.8 MB 20.9 MB/s eta 0:00:05\n",
      "   - -------------------------------------- 3.7/99.8 MB 21.7 MB/s eta 0:00:05\n",
      "   - -------------------------------------- 4.7/99.8 MB 20.1 MB/s eta 0:00:05\n",
      "   -- ------------------------------------- 5.6/99.8 MB 19.7 MB/s eta 0:00:05\n",
      "   -- ------------------------------------- 6.3/99.8 MB 19.0 MB/s eta 0:00:05\n",
      "   -- ------------------------------------- 6.7/99.8 MB 19.3 MB/s eta 0:00:05\n",
      "   --- ------------------------------------ 7.9/99.8 MB 18.6 MB/s eta 0:00:05\n",
      "   --- ------------------------------------ 8.6/99.8 MB 19.5 MB/s eta 0:00:05\n",
      "   --- ------------------------------------ 9.7/99.8 MB 19.4 MB/s eta 0:00:05\n",
      "   ---- ----------------------------------- 10.4/99.8 MB 18.7 MB/s eta 0:00:05\n",
      "   ---- ----------------------------------- 11.4/99.8 MB 18.7 MB/s eta 0:00:05\n",
      "   ---- ----------------------------------- 12.3/99.8 MB 19.8 MB/s eta 0:00:05\n",
      "   ----- ---------------------------------- 13.2/99.8 MB 18.7 MB/s eta 0:00:05\n",
      "   ----- ---------------------------------- 13.6/99.8 MB 18.2 MB/s eta 0:00:05\n",
      "   ----- ---------------------------------- 14.9/99.8 MB 18.7 MB/s eta 0:00:05\n",
      "   ------ --------------------------------- 15.3/99.8 MB 18.2 MB/s eta 0:00:05\n",
      "   ------ --------------------------------- 16.5/99.8 MB 18.7 MB/s eta 0:00:05\n",
      "   ------ --------------------------------- 17.3/99.8 MB 19.3 MB/s eta 0:00:05\n",
      "   ------- -------------------------------- 17.8/99.8 MB 19.2 MB/s eta 0:00:05\n",
      "   ------- -------------------------------- 18.7/99.8 MB 18.2 MB/s eta 0:00:05\n",
      "   -------- ------------------------------- 20.0/99.8 MB 18.7 MB/s eta 0:00:05\n",
      "   -------- ------------------------------- 20.6/99.8 MB 18.7 MB/s eta 0:00:05\n",
      "   -------- ------------------------------- 21.6/99.8 MB 18.2 MB/s eta 0:00:05\n",
      "   -------- ------------------------------- 22.4/99.8 MB 18.2 MB/s eta 0:00:05\n",
      "   --------- ------------------------------ 22.9/99.8 MB 17.7 MB/s eta 0:00:05\n",
      "   --------- ------------------------------ 24.0/99.8 MB 18.7 MB/s eta 0:00:05\n",
      "   --------- ------------------------------ 24.8/99.8 MB 18.2 MB/s eta 0:00:05\n",
      "   ---------- ----------------------------- 25.5/99.8 MB 17.7 MB/s eta 0:00:05\n",
      "   ---------- ----------------------------- 26.5/99.8 MB 17.7 MB/s eta 0:00:05\n",
      "   ---------- ----------------------------- 27.3/99.8 MB 18.2 MB/s eta 0:00:04\n",
      "   ----------- ---------------------------- 28.1/99.8 MB 18.2 MB/s eta 0:00:04\n",
      "   ----------- ---------------------------- 28.9/99.8 MB 17.7 MB/s eta 0:00:05\n",
      "   ----------- ---------------------------- 29.5/99.8 MB 18.2 MB/s eta 0:00:04\n",
      "   ------------ --------------------------- 30.7/99.8 MB 18.2 MB/s eta 0:00:04\n",
      "   ------------ --------------------------- 31.1/99.8 MB 17.7 MB/s eta 0:00:04\n",
      "   ------------ --------------------------- 32.4/99.8 MB 17.7 MB/s eta 0:00:04\n",
      "   ------------- -------------------------- 33.2/99.8 MB 18.7 MB/s eta 0:00:04\n",
      "   ------------- -------------------------- 33.5/99.8 MB 18.2 MB/s eta 0:00:04\n",
      "   ------------- -------------------------- 34.8/99.8 MB 17.7 MB/s eta 0:00:04\n",
      "   -------------- ------------------------- 35.3/99.8 MB 17.2 MB/s eta 0:00:04\n",
      "   -------------- ------------------------- 36.5/99.8 MB 18.2 MB/s eta 0:00:04\n",
      "   -------------- ------------------------- 36.6/99.8 MB 17.7 MB/s eta 0:00:04\n",
      "   --------------- ------------------------ 37.9/99.8 MB 18.2 MB/s eta 0:00:04\n",
      "   --------------- ------------------------ 39.0/99.8 MB 18.2 MB/s eta 0:00:04\n",
      "   --------------- ------------------------ 39.7/99.8 MB 17.7 MB/s eta 0:00:04\n",
      "   ---------------- ----------------------- 40.5/99.8 MB 17.7 MB/s eta 0:00:04\n",
      "   ---------------- ----------------------- 41.4/99.8 MB 17.7 MB/s eta 0:00:04\n",
      "   ---------------- ----------------------- 42.2/99.8 MB 17.7 MB/s eta 0:00:04\n",
      "   ----------------- ---------------------- 42.9/99.8 MB 17.7 MB/s eta 0:00:04\n",
      "   ----------------- ---------------------- 43.9/99.8 MB 18.7 MB/s eta 0:00:03\n",
      "   ----------------- ---------------------- 44.7/99.8 MB 17.7 MB/s eta 0:00:04\n",
      "   ------------------ --------------------- 45.1/99.8 MB 18.2 MB/s eta 0:00:04\n",
      "   ------------------ --------------------- 45.8/99.8 MB 17.7 MB/s eta 0:00:04\n",
      "   ------------------ --------------------- 47.1/99.8 MB 18.7 MB/s eta 0:00:03\n",
      "   ------------------- -------------------- 47.8/99.8 MB 18.2 MB/s eta 0:00:03\n",
      "   ------------------- -------------------- 48.8/99.8 MB 18.2 MB/s eta 0:00:03\n",
      "   ------------------- -------------------- 49.7/99.8 MB 17.7 MB/s eta 0:00:03\n",
      "   -------------------- ------------------- 50.6/99.8 MB 17.7 MB/s eta 0:00:03\n",
      "   -------------------- ------------------- 51.4/99.8 MB 17.7 MB/s eta 0:00:03\n",
      "   -------------------- ------------------- 52.4/99.8 MB 18.2 MB/s eta 0:00:03\n",
      "   --------------------- ------------------ 53.1/99.8 MB 17.7 MB/s eta 0:00:03\n",
      "   --------------------- ------------------ 53.6/99.8 MB 18.2 MB/s eta 0:00:03\n",
      "   --------------------- ------------------ 54.7/99.8 MB 18.7 MB/s eta 0:00:03\n",
      "   ---------------------- ----------------- 55.7/99.8 MB 18.7 MB/s eta 0:00:03\n",
      "   ---------------------- ----------------- 56.3/99.8 MB 19.3 MB/s eta 0:00:03\n",
      "   ----------------------- ---------------- 57.5/99.8 MB 18.7 MB/s eta 0:00:03\n",
      "   ----------------------- ---------------- 58.4/99.8 MB 18.7 MB/s eta 0:00:03\n",
      "   ----------------------- ---------------- 59.2/99.8 MB 18.7 MB/s eta 0:00:03\n",
      "   ------------------------ --------------- 60.0/99.8 MB 18.2 MB/s eta 0:00:03\n",
      "   ------------------------ --------------- 60.8/99.8 MB 18.2 MB/s eta 0:00:03\n",
      "   ------------------------ --------------- 61.8/99.8 MB 18.2 MB/s eta 0:00:03\n",
      "   ------------------------- -------------- 62.6/99.8 MB 19.3 MB/s eta 0:00:02\n",
      "   ------------------------- -------------- 63.5/99.8 MB 18.2 MB/s eta 0:00:02\n",
      "   ------------------------- -------------- 64.4/99.8 MB 18.7 MB/s eta 0:00:02\n",
      "   -------------------------- ------------- 65.0/99.8 MB 18.7 MB/s eta 0:00:02\n",
      "   -------------------------- ------------- 66.0/99.8 MB 19.3 MB/s eta 0:00:02\n",
      "   -------------------------- ------------- 66.7/99.8 MB 18.7 MB/s eta 0:00:02\n",
      "   --------------------------- ------------ 67.5/99.8 MB 17.7 MB/s eta 0:00:02\n",
      "   --------------------------- ------------ 68.1/99.8 MB 18.2 MB/s eta 0:00:02\n",
      "   --------------------------- ------------ 69.4/99.8 MB 18.2 MB/s eta 0:00:02\n",
      "   ---------------------------- ----------- 70.3/99.8 MB 18.2 MB/s eta 0:00:02\n",
      "   ---------------------------- ----------- 71.2/99.8 MB 18.2 MB/s eta 0:00:02\n",
      "   ---------------------------- ----------- 72.0/99.8 MB 18.7 MB/s eta 0:00:02\n",
      "   ----------------------------- ---------- 73.0/99.8 MB 18.7 MB/s eta 0:00:02\n",
      "   ----------------------------- ---------- 73.8/99.8 MB 18.2 MB/s eta 0:00:02\n",
      "   ----------------------------- ---------- 74.6/99.8 MB 18.2 MB/s eta 0:00:02\n",
      "   ------------------------------ --------- 75.4/99.8 MB 18.7 MB/s eta 0:00:02\n",
      "   ------------------------------ --------- 76.2/99.8 MB 18.2 MB/s eta 0:00:02\n",
      "   ------------------------------ --------- 76.9/99.8 MB 19.3 MB/s eta 0:00:02\n",
      "   ------------------------------- -------- 78.1/99.8 MB 18.2 MB/s eta 0:00:02\n",
      "   ------------------------------- -------- 79.0/99.8 MB 18.7 MB/s eta 0:00:02\n",
      "   -------------------------------- ------- 79.8/99.8 MB 18.7 MB/s eta 0:00:02\n",
      "   -------------------------------- ------- 80.8/99.8 MB 19.2 MB/s eta 0:00:01\n",
      "   -------------------------------- ------- 81.5/99.8 MB 18.2 MB/s eta 0:00:02\n",
      "   --------------------------------- ------ 82.5/99.8 MB 18.2 MB/s eta 0:00:01\n",
      "   --------------------------------- ------ 83.4/99.8 MB 18.7 MB/s eta 0:00:01\n",
      "   --------------------------------- ------ 84.2/99.8 MB 18.2 MB/s eta 0:00:01\n",
      "   ---------------------------------- ----- 85.0/99.8 MB 18.2 MB/s eta 0:00:01\n",
      "   ---------------------------------- ----- 85.3/99.8 MB 18.2 MB/s eta 0:00:01\n",
      "   ---------------------------------- ----- 86.4/99.8 MB 18.7 MB/s eta 0:00:01\n",
      "   ---------------------------------- ----- 87.1/99.8 MB 18.2 MB/s eta 0:00:01\n",
      "   ----------------------------------- ---- 88.4/99.8 MB 18.2 MB/s eta 0:00:01\n",
      "   ----------------------------------- ---- 88.6/99.8 MB 18.7 MB/s eta 0:00:01\n",
      "   ------------------------------------ --- 89.8/99.8 MB 17.7 MB/s eta 0:00:01\n",
      "   ------------------------------------ --- 90.8/99.8 MB 17.7 MB/s eta 0:00:01\n",
      "   ------------------------------------ --- 91.7/99.8 MB 18.2 MB/s eta 0:00:01\n",
      "   ------------------------------------- -- 92.4/99.8 MB 17.7 MB/s eta 0:00:01\n",
      "   ------------------------------------- -- 93.4/99.8 MB 18.2 MB/s eta 0:00:01\n",
      "   ------------------------------------- -- 94.2/99.8 MB 17.7 MB/s eta 0:00:01\n",
      "   -------------------------------------- - 94.8/99.8 MB 18.2 MB/s eta 0:00:01\n",
      "   -------------------------------------- - 95.9/99.8 MB 18.7 MB/s eta 0:00:01\n",
      "   -------------------------------------- - 96.5/99.8 MB 17.7 MB/s eta 0:00:01\n",
      "   ---------------------------------------  97.5/99.8 MB 19.3 MB/s eta 0:00:01\n",
      "   ---------------------------------------  98.4/99.8 MB 18.7 MB/s eta 0:00:01\n",
      "   ---------------------------------------  99.4/99.8 MB 18.7 MB/s eta 0:00:01\n",
      "   ---------------------------------------  99.7/99.8 MB 18.7 MB/s eta 0:00:01\n",
      "   ---------------------------------------  99.7/99.8 MB 18.7 MB/s eta 0:00:01\n",
      "   ---------------------------------------  99.7/99.8 MB 18.7 MB/s eta 0:00:01\n",
      "   ---------------------------------------- 99.8/99.8 MB 14.9 MB/s eta 0:00:00\n",
      "Installing collected packages: numpy, pandas, xgboost, scikit-learn, matplotlib, seaborn\n",
      "  Attempting uninstall: numpy\n",
      "    Found existing installation: numpy 1.25.2\n",
      "    Uninstalling numpy-1.25.2:\n",
      "      Successfully uninstalled numpy-1.25.2\n",
      "  Attempting uninstall: pandas\n",
      "    Found existing installation: pandas 2.0.3\n",
      "    Uninstalling pandas-2.0.3:\n",
      "      Successfully uninstalled pandas-2.0.3\n",
      "  Attempting uninstall: xgboost\n",
      "    Found existing installation: xgboost 1.7.5\n",
      "    Uninstalling xgboost-1.7.5:\n",
      "      Successfully uninstalled xgboost-1.7.5\n",
      "  Attempting uninstall: scikit-learn\n",
      "    Found existing installation: scikit-learn 1.2.2\n",
      "    Uninstalling scikit-learn-1.2.2:\n",
      "      Successfully uninstalled scikit-learn-1.2.2\n",
      "  Attempting uninstall: matplotlib\n",
      "    Found existing installation: matplotlib 3.7.1\n",
      "    Uninstalling matplotlib-3.7.1:\n",
      "      Successfully uninstalled matplotlib-3.7.1\n",
      "  Attempting uninstall: seaborn\n",
      "    Found existing installation: seaborn 0.12.2\n",
      "    Uninstalling seaborn-0.12.2:\n",
      "      Successfully uninstalled seaborn-0.12.2\n",
      "Successfully installed matplotlib-3.8.1 numpy-1.26.1 pandas-2.1.2 scikit-learn-1.3.2 seaborn-0.13.0 xgboost-2.0.2\n"
     ]
    },
    {
     "name": "stderr",
     "output_type": "stream",
     "text": [
      "ERROR: pip's dependency resolver does not currently take into account all the packages that are installed. This behaviour is the source of the following dependency conflicts.\n",
      "tensorflow-intel 2.12.0 requires numpy<1.24,>=1.22, but you have numpy 1.26.1 which is incompatible.\n"
     ]
    }
   ],
   "source": [
    "!pip install -r requirements.txt"
   ]
  },
  {
   "cell_type": "code",
   "execution_count": 2,
   "metadata": {},
   "outputs": [],
   "source": [
    "import numpy as np\n",
    "import pandas as pd\n",
    "import seaborn as sns\n",
    "import matplotlib.pyplot as plt\n",
    "import warnings\n",
    "warnings.filterwarnings(\"ignore\")\n",
    "\n",
    "from sklearn.model_selection import train_test_split, cross_val_score\n",
    "from sklearn.preprocessing import StandardScaler\n",
    "from sklearn.metrics import r2_score, mean_absolute_error, mean_squared_error\n",
    "from sklearn.linear_model import LinearRegression\n",
    "from sklearn.model_selection import RandomizedSearchCV\n",
    "from sklearn.model_selection import KFold\n",
    "from sklearn.model_selection import GridSearchCV\n",
    "from sklearn.metrics import make_scorer\n",
    "from sklearn.ensemble import GradientBoostingRegressor\n",
    "from sklearn.ensemble import VotingRegressor\n",
    "from sklearn.linear_model import Ridge\n",
    "from sklearn.linear_model import Lasso\n",
    "from sklearn.linear_model import ElasticNet\n",
    "from sklearn.ensemble import RandomForestRegressor\n",
    "from sklearn.svm import SVR\n",
    "from xgboost import XGBRegressor\n",
    "from sklearn.preprocessing import PolynomialFeatures"
   ]
  },
  {
   "attachments": {},
   "cell_type": "markdown",
   "metadata": {},
   "source": [
    "<h1 style=\"font-family: 'Times New Roman'; letter-spacing: 0.08em;\">Loading the saved NumPy arrays i.e. X_train_df, X_test_df, y_train_df, and y_test_df </h1>"
   ]
  },
  {
   "cell_type": "code",
   "execution_count": 3,
   "metadata": {},
   "outputs": [],
   "source": [
    "import numpy as np\n",
    "import pandas as pd\n",
    "X_train = np.load('../Data/X_train.npy')\n",
    "X_test = np.load('../Data/X_test.npy')\n",
    "y_train = np.load('../Data/y_train.npy')\n",
    "y_test = np.load('../Data/y_test.npy')\n",
    "X = np.load('../Data/X.npy')\n",
    "y = np.load('../Data/y.npy')"
   ]
  },
  {
   "attachments": {},
   "cell_type": "markdown",
   "metadata": {},
   "source": [
    "***Declaring Evaluation functions***"
   ]
  },
  {
   "cell_type": "code",
   "execution_count": 4,
   "metadata": {},
   "outputs": [],
   "source": [
    "def rmse_cv(model):\n",
    "    rmse = np.sqrt(-cross_val_score(model, X, y, scoring=\"neg_mean_squared_error\", cv=5)).mean()\n",
    "    return rmse\n",
    "    \n",
    "\n",
    "def evaluation(y, predictions):\n",
    "    mae = mean_absolute_error(y, predictions)\n",
    "    mse = mean_squared_error(y, predictions)\n",
    "    rmse = np.sqrt(mean_squared_error(y, predictions))\n",
    "    r_squared = r2_score(y, predictions)\n",
    "    return mae, mse, rmse, r_squared"
   ]
  },
  {
   "attachments": {},
   "cell_type": "markdown",
   "metadata": {},
   "source": [
    "<h1 style=\"font-family: 'Times New Roman'; letter-spacing: 0.08em;\">Regression Models</h1>"
   ]
  },
  {
   "attachments": {},
   "cell_type": "markdown",
   "metadata": {},
   "source": [
    "***Defining a DataFrame to Store Evaluation Values***"
   ]
  },
  {
   "cell_type": "code",
   "execution_count": 5,
   "metadata": {},
   "outputs": [],
   "source": [
    "models = pd.DataFrame(columns=[\"Model\",\"MAE\",\"MSE\",\"RMSE\",\"R2 Score\",\"RMSE (Cross-Validation)\"])"
   ]
  },
  {
   "attachments": {},
   "cell_type": "markdown",
   "metadata": {},
   "source": [
    "<h2 style=\"font-family: 'Times New Roman'; letter-spacing: 0.05em;\">Linear Regression</h2>"
   ]
  },
  {
   "cell_type": "code",
   "execution_count": 6,
   "metadata": {},
   "outputs": [
    {
     "name": "stdout",
     "output_type": "stream",
     "text": [
      "MAE: 44475.31659483556\n",
      "MSE: 2923315541.4250875\n",
      "RMSE: 54067.69406424771\n",
      "R2 Score: 0.6482919977750566\n",
      "------------------------------\n",
      "RMSE Cross-Validation: 60733.56637200187\n"
     ]
    }
   ],
   "source": [
    "lin_reg = LinearRegression()\n",
    "lin_reg.fit(X_train, y_train)\n",
    "predictions = lin_reg.predict(X_test)\n",
    "\n",
    "mae, mse, rmse, r_squared = evaluation(y_test, predictions)\n",
    "print(\"MAE:\", mae)\n",
    "print(\"MSE:\", mse)\n",
    "print(\"RMSE:\", rmse)\n",
    "print(\"R2 Score:\", r_squared)\n",
    "print(\"-\"*30)\n",
    "rmse_cross_val = rmse_cv(lin_reg)\n",
    "print(\"RMSE Cross-Validation:\", rmse_cross_val)\n",
    "\n",
    "new_row = {\"Model\": \"LinearRegression\",\"MAE\": mae, \"MSE\": mse, \"RMSE\": rmse, \"R2 Score\": r_squared, \"RMSE (Cross-Validation)\": rmse_cross_val}\n",
    "new_row_df = pd.DataFrame([new_row])\n",
    "models = pd.concat([models, new_row_df], ignore_index=True)"
   ]
  },
  {
   "attachments": {},
   "cell_type": "markdown",
   "metadata": {},
   "source": [
    "<h2 style=\"font-family: 'Times New Roman'; letter-spacing: 0.05em;\">Ridge Regression</h2>"
   ]
  },
  {
   "cell_type": "code",
   "execution_count": 7,
   "metadata": {},
   "outputs": [
    {
     "name": "stdout",
     "output_type": "stream",
     "text": [
      "MAE: 44475.45741835473\n",
      "MSE: 2923319361.8346863\n",
      "RMSE: 54067.72939410981\n",
      "R2 Score: 0.6482915381364687\n",
      "------------------------------\n",
      "RMSE Cross-Validation: 60733.13521398555\n"
     ]
    }
   ],
   "source": [
    "ridge = Ridge()\n",
    "ridge.fit(X_train, y_train)\n",
    "predictions = ridge.predict(X_test)\n",
    "\n",
    "mae, mse, rmse, r_squared = evaluation(y_test, predictions)\n",
    "print(\"MAE:\", mae)\n",
    "print(\"MSE:\", mse)\n",
    "print(\"RMSE:\", rmse)\n",
    "print(\"R2 Score:\", r_squared)\n",
    "print(\"-\"*30)\n",
    "rmse_cross_val = rmse_cv(ridge)\n",
    "print(\"RMSE Cross-Validation:\", rmse_cross_val)\n",
    "\n",
    "new_row = {\"Model\": \"Ridge\",\"MAE\": mae, \"MSE\": mse, \"RMSE\": rmse, \"R2 Score\": r_squared, \"RMSE (Cross-Validation)\": rmse_cross_val}\n",
    "new_row_df = pd.DataFrame([new_row])\n",
    "models = pd.concat([models, new_row_df], ignore_index=True)"
   ]
  },
  {
   "attachments": {},
   "cell_type": "markdown",
   "metadata": {},
   "source": [
    "<h2 style=\"font-family: 'Times New Roman'; letter-spacing: 0.05em;\">Lasso Regression</h2>"
   ]
  },
  {
   "cell_type": "code",
   "execution_count": 8,
   "metadata": {},
   "outputs": [
    {
     "name": "stdout",
     "output_type": "stream",
     "text": [
      "MAE: 44475.32600812341\n",
      "MSE: 2923314381.7932363\n",
      "RMSE: 54067.6833403581\n",
      "R2 Score: 0.6482921372919155\n",
      "------------------------------\n",
      "RMSE Cross-Validation: 60733.38246615256\n"
     ]
    }
   ],
   "source": [
    "lasso = Lasso()\n",
    "lasso.fit(X_train, y_train)\n",
    "predictions = lasso.predict(X_test)\n",
    "\n",
    "mae, mse, rmse, r_squared = evaluation(y_test, predictions)\n",
    "print(\"MAE:\", mae)\n",
    "print(\"MSE:\", mse)\n",
    "print(\"RMSE:\", rmse)\n",
    "print(\"R2 Score:\", r_squared)\n",
    "print(\"-\"*30)\n",
    "rmse_cross_val = rmse_cv(lasso)\n",
    "print(\"RMSE Cross-Validation:\", rmse_cross_val)\n",
    "\n",
    "new_row = {\"Model\": \"Lasso\",\"MAE\": mae, \"MSE\": mse, \"RMSE\": rmse, \"R2 Score\": r_squared, \"RMSE (Cross-Validation)\": rmse_cross_val}\n",
    "new_row_df = pd.DataFrame([new_row])\n",
    "models = pd.concat([models, new_row_df], ignore_index=True)"
   ]
  },
  {
   "attachments": {},
   "cell_type": "markdown",
   "metadata": {},
   "source": [
    "<h2 style=\"font-family: 'Times New Roman'; letter-spacing: 0.05em;\">Elastic Net</h2>"
   ]
  },
  {
   "cell_type": "code",
   "execution_count": 9,
   "metadata": {},
   "outputs": [
    {
     "name": "stdout",
     "output_type": "stream",
     "text": [
      "MAE: 44517.06407963733\n",
      "MSE: 2924487350.6345363\n",
      "RMSE: 54078.529479216944\n",
      "R2 Score: 0.6481510158419728\n",
      "------------------------------\n",
      "RMSE Cross-Validation: 60632.36975926291\n"
     ]
    }
   ],
   "source": [
    "elastic_net = ElasticNet()\n",
    "elastic_net.fit(X_train, y_train)\n",
    "predictions = elastic_net.predict(X_test)\n",
    "\n",
    "mae, mse, rmse, r_squared = evaluation(y_test, predictions)\n",
    "print(\"MAE:\", mae)\n",
    "print(\"MSE:\", mse)\n",
    "print(\"RMSE:\", rmse)\n",
    "print(\"R2 Score:\", r_squared)\n",
    "print(\"-\"*30)\n",
    "rmse_cross_val = rmse_cv(elastic_net)\n",
    "print(\"RMSE Cross-Validation:\", rmse_cross_val)\n",
    "\n",
    "new_row = {\"Model\": \"ElasticNet\",\"MAE\": mae, \"MSE\": mse, \"RMSE\": rmse, \"R2 Score\": r_squared, \"RMSE (Cross-Validation)\": rmse_cross_val}\n",
    "new_row_df = pd.DataFrame([new_row])\n",
    "models = pd.concat([models, new_row_df], ignore_index=True)"
   ]
  },
  {
   "attachments": {},
   "cell_type": "markdown",
   "metadata": {},
   "source": [
    "<h2 style=\"font-family: 'Times New Roman'; letter-spacing: 0.05em;\">Support Vector Machines</h2>"
   ]
  },
  {
   "cell_type": "code",
   "execution_count": 10,
   "metadata": {},
   "outputs": [
    {
     "name": "stdout",
     "output_type": "stream",
     "text": [
      "MAE: 59690.95624145081\n",
      "MSE: 4511273073.446867\n",
      "RMSE: 67166.01129624169\n",
      "R2 Score: 0.457242703475075\n",
      "------------------------------\n",
      "RMSE Cross-Validation: 70272.87803912575\n"
     ]
    }
   ],
   "source": [
    "svr = SVR(C=100000)\n",
    "svr.fit(X_train, y_train)\n",
    "predictions = svr.predict(X_test)\n",
    "\n",
    "mae, mse, rmse, r_squared = evaluation(y_test, predictions)\n",
    "print(\"MAE:\", mae)\n",
    "print(\"MSE:\", mse)\n",
    "print(\"RMSE:\", rmse)\n",
    "print(\"R2 Score:\", r_squared)\n",
    "print(\"-\"*30)\n",
    "rmse_cross_val = rmse_cv(svr)\n",
    "print(\"RMSE Cross-Validation:\", rmse_cross_val)\n",
    "\n",
    "new_row = {\"Model\": \"SVR\",\"MAE\": mae, \"MSE\": mse, \"RMSE\": rmse, \"R2 Score\": r_squared, \"RMSE (Cross-Validation)\": rmse_cross_val}\n",
    "new_row_df = pd.DataFrame([new_row])\n",
    "models = pd.concat([models, new_row_df], ignore_index=True)"
   ]
  },
  {
   "attachments": {},
   "cell_type": "markdown",
   "metadata": {},
   "source": [
    "<h2 style=\"font-family: 'Times New Roman'; letter-spacing: 0.05em;\">Random Forest Regressor</h2>"
   ]
  },
  {
   "cell_type": "code",
   "execution_count": 11,
   "metadata": {},
   "outputs": [
    {
     "name": "stdout",
     "output_type": "stream",
     "text": [
      "MAE: 21547.446849999997\n",
      "MSE: 1279918079.265317\n",
      "RMSE: 35775.94274460586\n",
      "R2 Score: 0.8460113442113936\n",
      "------------------------------\n",
      "RMSE Cross-Validation: 44367.94120165955\n"
     ]
    }
   ],
   "source": [
    "random_forest = RandomForestRegressor(n_estimators=100)\n",
    "random_forest.fit(X_train, y_train)\n",
    "predictions = random_forest.predict(X_test)\n",
    "\n",
    "mae, mse, rmse, r_squared = evaluation(y_test, predictions)\n",
    "print(\"MAE:\", mae)\n",
    "print(\"MSE:\", mse)\n",
    "print(\"RMSE:\", rmse)\n",
    "print(\"R2 Score:\", r_squared)\n",
    "print(\"-\"*30)\n",
    "rmse_cross_val = rmse_cv(random_forest)\n",
    "print(\"RMSE Cross-Validation:\", rmse_cross_val)\n",
    "\n",
    "new_row = {\"Model\": \"RandomForestRegressor\",\"MAE\": mae, \"MSE\": mse, \"RMSE\": rmse, \"R2 Score\": r_squared, \"RMSE (Cross-Validation)\": rmse_cross_val}\n",
    "new_row_df = pd.DataFrame([new_row])\n",
    "models = pd.concat([models, new_row_df], ignore_index=True)"
   ]
  },
  {
   "attachments": {},
   "cell_type": "markdown",
   "metadata": {},
   "source": [
    "<h2 style=\"font-family: 'Times New Roman'; letter-spacing: 0.05em;\">XGBoost Regressor</h2>"
   ]
  },
  {
   "cell_type": "code",
   "execution_count": 12,
   "metadata": {},
   "outputs": [
    {
     "name": "stdout",
     "output_type": "stream",
     "text": [
      "MAE: 24448.031484375\n",
      "MSE: 1655791068.886847\n",
      "RMSE: 40691.412716774124\n",
      "R2 Score: 0.8007895621639927\n",
      "------------------------------\n",
      "RMSE Cross-Validation: 48923.41742481436\n"
     ]
    }
   ],
   "source": [
    "xgb = XGBRegressor(n_estimators=1000, learning_rate=0.01)\n",
    "xgb.fit(X_train, y_train)\n",
    "predictions = xgb.predict(X_test)\n",
    "\n",
    "mae, mse, rmse, r_squared = evaluation(y_test, predictions)\n",
    "print(\"MAE:\", mae)\n",
    "print(\"MSE:\", mse)\n",
    "print(\"RMSE:\", rmse)\n",
    "print(\"R2 Score:\", r_squared)\n",
    "print(\"-\"*30)\n",
    "rmse_cross_val = rmse_cv(xgb)\n",
    "print(\"RMSE Cross-Validation:\", rmse_cross_val)\n",
    "\n",
    "new_row = {\"Model\": \"XGBRegressor\",\"MAE\": mae, \"MSE\": mse, \"RMSE\": rmse, \"R2 Score\": r_squared, \"RMSE (Cross-Validation)\": rmse_cross_val}\n",
    "new_row_df = pd.DataFrame([new_row])\n",
    "models = pd.concat([models, new_row_df], ignore_index=True)"
   ]
  },
  {
   "attachments": {},
   "cell_type": "markdown",
   "metadata": {},
   "source": [
    "<h1 style=\"font-family: 'Times New Roman'; letter-spacing: 0.08em;\">Model Comparison</h1>"
   ]
  },
  {
   "attachments": {},
   "cell_type": "markdown",
   "metadata": {},
   "source": [
    "***The model's performance improves as the Root Mean Squared Error (RMSE) decreases.***"
   ]
  },
  {
   "cell_type": "code",
   "execution_count": 13,
   "metadata": {},
   "outputs": [
    {
     "data": {
      "text/html": [
       "<div>\n",
       "<style scoped>\n",
       "    .dataframe tbody tr th:only-of-type {\n",
       "        vertical-align: middle;\n",
       "    }\n",
       "\n",
       "    .dataframe tbody tr th {\n",
       "        vertical-align: top;\n",
       "    }\n",
       "\n",
       "    .dataframe thead th {\n",
       "        text-align: right;\n",
       "    }\n",
       "</style>\n",
       "<table border=\"1\" class=\"dataframe\">\n",
       "  <thead>\n",
       "    <tr style=\"text-align: right;\">\n",
       "      <th></th>\n",
       "      <th>Model</th>\n",
       "      <th>MAE</th>\n",
       "      <th>MSE</th>\n",
       "      <th>RMSE</th>\n",
       "      <th>R2 Score</th>\n",
       "      <th>RMSE (Cross-Validation)</th>\n",
       "    </tr>\n",
       "  </thead>\n",
       "  <tbody>\n",
       "    <tr>\n",
       "      <th>5</th>\n",
       "      <td>RandomForestRegressor</td>\n",
       "      <td>21547.446850</td>\n",
       "      <td>1.279918e+09</td>\n",
       "      <td>35775.942745</td>\n",
       "      <td>0.846011</td>\n",
       "      <td>44367.941202</td>\n",
       "    </tr>\n",
       "    <tr>\n",
       "      <th>6</th>\n",
       "      <td>XGBRegressor</td>\n",
       "      <td>24448.031484</td>\n",
       "      <td>1.655791e+09</td>\n",
       "      <td>40691.412717</td>\n",
       "      <td>0.800790</td>\n",
       "      <td>48923.417425</td>\n",
       "    </tr>\n",
       "    <tr>\n",
       "      <th>3</th>\n",
       "      <td>ElasticNet</td>\n",
       "      <td>44517.064080</td>\n",
       "      <td>2.924487e+09</td>\n",
       "      <td>54078.529479</td>\n",
       "      <td>0.648151</td>\n",
       "      <td>60632.369759</td>\n",
       "    </tr>\n",
       "    <tr>\n",
       "      <th>1</th>\n",
       "      <td>Ridge</td>\n",
       "      <td>44475.457418</td>\n",
       "      <td>2.923319e+09</td>\n",
       "      <td>54067.729394</td>\n",
       "      <td>0.648292</td>\n",
       "      <td>60733.135214</td>\n",
       "    </tr>\n",
       "    <tr>\n",
       "      <th>2</th>\n",
       "      <td>Lasso</td>\n",
       "      <td>44475.326008</td>\n",
       "      <td>2.923314e+09</td>\n",
       "      <td>54067.683340</td>\n",
       "      <td>0.648292</td>\n",
       "      <td>60733.382466</td>\n",
       "    </tr>\n",
       "    <tr>\n",
       "      <th>0</th>\n",
       "      <td>LinearRegression</td>\n",
       "      <td>44475.316595</td>\n",
       "      <td>2.923316e+09</td>\n",
       "      <td>54067.694064</td>\n",
       "      <td>0.648292</td>\n",
       "      <td>60733.566372</td>\n",
       "    </tr>\n",
       "    <tr>\n",
       "      <th>4</th>\n",
       "      <td>SVR</td>\n",
       "      <td>59690.956241</td>\n",
       "      <td>4.511273e+09</td>\n",
       "      <td>67166.011296</td>\n",
       "      <td>0.457243</td>\n",
       "      <td>70272.878039</td>\n",
       "    </tr>\n",
       "  </tbody>\n",
       "</table>\n",
       "</div>"
      ],
      "text/plain": [
       "                   Model           MAE           MSE          RMSE  R2 Score  \\\n",
       "5  RandomForestRegressor  21547.446850  1.279918e+09  35775.942745  0.846011   \n",
       "6           XGBRegressor  24448.031484  1.655791e+09  40691.412717  0.800790   \n",
       "3             ElasticNet  44517.064080  2.924487e+09  54078.529479  0.648151   \n",
       "1                  Ridge  44475.457418  2.923319e+09  54067.729394  0.648292   \n",
       "2                  Lasso  44475.326008  2.923314e+09  54067.683340  0.648292   \n",
       "0       LinearRegression  44475.316595  2.923316e+09  54067.694064  0.648292   \n",
       "4                    SVR  59690.956241  4.511273e+09  67166.011296  0.457243   \n",
       "\n",
       "   RMSE (Cross-Validation)  \n",
       "5             44367.941202  \n",
       "6             48923.417425  \n",
       "3             60632.369759  \n",
       "1             60733.135214  \n",
       "2             60733.382466  \n",
       "0             60733.566372  \n",
       "4             70272.878039  "
      ]
     },
     "execution_count": 13,
     "metadata": {},
     "output_type": "execute_result"
    }
   ],
   "source": [
    "models.sort_values(by=\"RMSE (Cross-Validation)\")"
   ]
  },
  {
   "attachments": {},
   "cell_type": "markdown",
   "metadata": {},
   "source": [
    "***RMSE (Cross-Validation) is less in ElasticNet Model***"
   ]
  },
  {
   "cell_type": "code",
   "execution_count": 14,
   "metadata": {},
   "outputs": [
    {
     "data": {
      "image/png": "[encoded data removed]",
      "text/plain": [
       "<Figure size 1200x800 with 1 Axes>"
      ]
     },
     "metadata": {},
     "output_type": "display_data"
    }
   ],
   "source": [
    "sorted_models = models.sort_values(by='RMSE (Cross-Validation)', ascending=False)\n",
    "\n",
    "plt.figure(figsize=(12, 8))\n",
    "sns.barplot(x='Model', y='RMSE (Cross-Validation)', data=sorted_models, color='skyblue')\n",
    "plt.title(\"Models' RMSE Scores (Cross-Validated) - Descending Order\", size=15)\n",
    "plt.xticks(rotation=30, size=12)\n",
    "plt.ylabel('RMSE (Cross-Validation)')\n",
    "plt.xlabel('Model')\n",
    "plt.grid(axis='y')\n",
    "plt.show()"
   ]
  },
  {
   "attachments": {},
   "cell_type": "markdown",
   "metadata": {},
   "source": [
    "<h1 style=\"font-family: 'Times New Roman'; letter-spacing: 0.08em;\">Build Random Forest Regressor with best parameters</h1>"
   ]
  },
  {
   "cell_type": "code",
   "execution_count": 15,
   "metadata": {},
   "outputs": [
    {
     "name": "stdout",
     "output_type": "stream",
     "text": [
      "MAE: 21731.842810878094\n",
      "MSE: 1313834534.905083\n",
      "RMSE: 36246.85551748017\n",
      "R2 Score: 0.8419308100758969\n",
      "------------------------------\n",
      "RMSE Cross-Validation: 43758.110925998204\n"
     ]
    }
   ],
   "source": [
    "param_grid = {\n",
    "    'n_estimators': [100, 200, 300],\n",
    "    'max_depth': [None, 10, 20],\n",
    "    'min_samples_split': [2, 5, 10],\n",
    "    'min_samples_leaf': [1, 2, 4]\n",
    "}\n",
    "\n",
    "random_forest = RandomForestRegressor()\n",
    "\n",
    "grid_search = GridSearchCV(estimator=random_forest, param_grid=param_grid, cv=5, \n",
    "                           scoring='neg_mean_squared_error', n_jobs=-1)\n",
    "grid_search.fit(X_train, y_train)\n",
    "\n",
    "best_params = grid_search.best_params_\n",
    "\n",
    "best_random_forest = grid_search.best_estimator_\n",
    "best_random_forest.fit(X_train, y_train)\n",
    "\n",
    "best_predictions = best_random_forest.predict(X_test)\n",
    "\n",
    "mae, mse, rmse, r_squared = evaluation(y_test, best_predictions)\n",
    "print(\"MAE:\", mae)\n",
    "print(\"MSE:\", mse)\n",
    "print(\"RMSE:\", rmse)\n",
    "print(\"R2 Score:\", r_squared)\n",
    "print(\"-\"*30)\n",
    "rmse_cross_val = rmse_cv(best_random_forest)\n",
    "print(\"RMSE Cross-Validation:\", rmse_cross_val)\n"
   ]
  },
  {
   "attachments": {},
   "cell_type": "markdown",
   "metadata": {},
   "source": [
    "## <span style=\"font-family: 'Times New Roman'\">Why I Choose RMSE Over MAE</span>\n",
    "\n",
    "- ***I have selected RMSE (Root Mean Square Error) instead of MAE (Mean Absolute Error) because RMSE gives higher weight to larger errors.***\n",
    "- ***This helps capture significant errors better, providing a clearer picture of how well our predictive model performs.***\n"
   ]
  },
  {
   "attachments": {},
   "cell_type": "markdown",
   "metadata": {},
   "source": [
    "***Serialize the Model:***"
   ]
  },
  {
   "cell_type": "code",
   "execution_count": 16,
   "metadata": {},
   "outputs": [
    {
     "data": {
      "text/plain": [
       "['model.pkl']"
      ]
     },
     "execution_count": 16,
     "metadata": {},
     "output_type": "execute_result"
    }
   ],
   "source": [
    "import joblib\n",
    "joblib.dump(best_random_forest, 'model.pkl')"
   ]
  }
 ],
 "metadata": {
  "kernelspec": {
   "display_name": "Python 3",
   "language": "python",
   "name": "python3"
  },
  "language_info": {
   "codemirror_mode": {
    "name": "ipython",
    "version": 3
   },
   "file_extension": ".py",
   "mimetype": "text/x-python",
   "name": "python",
   "nbconvert_exporter": "python",
   "pygments_lexer": "ipython3",
   "version": "3.11.6"
  }
 },
 "nbformat": 4,
 "nbformat_minor": 2
}
