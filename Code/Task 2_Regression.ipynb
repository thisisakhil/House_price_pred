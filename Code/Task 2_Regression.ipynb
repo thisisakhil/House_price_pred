{
 "cells": [
  {
   "cell_type": "markdown",
   "metadata": {},
   "source": [
    "<center><h1 style=\"font-size:35px; font-family: 'Times New Roman'; letter-spacing: 0.1em;\">House Price Prediction 🏠 Modeling</h1></center>"
   ]
  },
  {
   "cell_type": "markdown",
   "metadata": {},
   "source": [
    "<h1 style=\"font-family: 'Times New Roman'; letter-spacing: 0.08em;\">Importing the required Libraries, Metrics</h1>"
   ]
  },
  {
   "cell_type": "code",
   "execution_count": 25,
   "metadata": {},
   "outputs": [
    {
     "name": "stdout",
     "output_type": "stream",
     "text": [
      "Requirement already satisfied: numpy==1.26.1 in c:\\users\\bhuvv\\appdata\\local\\programs\\python\\python312\\lib\\site-packages (from -r requirements.txt (line 1)) (1.26.1)\n",
      "Requirement already satisfied: pandas==2.1.2 in c:\\users\\bhuvv\\appdata\\local\\programs\\python\\python312\\lib\\site-packages (from -r requirements.txt (line 2)) (2.1.2)\n",
      "Requirement already satisfied: seaborn==0.13.0 in c:\\users\\bhuvv\\appdata\\local\\programs\\python\\python312\\lib\\site-packages (from -r requirements.txt (line 3)) (0.13.0)\n",
      "Requirement already satisfied: matplotlib==3.8.1 in c:\\users\\bhuvv\\appdata\\local\\programs\\python\\python312\\lib\\site-packages (from -r requirements.txt (line 4)) (3.8.1)\n",
      "Requirement already satisfied: scikit-learn==1.3.2 in c:\\users\\bhuvv\\appdata\\local\\programs\\python\\python312\\lib\\site-packages (from -r requirements.txt (line 5)) (1.3.2)\n",
      "Requirement already satisfied: xgboost==2.0.2 in c:\\users\\bhuvv\\appdata\\local\\programs\\python\\python312\\lib\\site-packages (from -r requirements.txt (line 6)) (2.0.2)\n",
      "Requirement already satisfied: python-dateutil>=2.8.2 in c:\\users\\bhuvv\\appdata\\roaming\\python\\python312\\site-packages (from pandas==2.1.2->-r requirements.txt (line 2)) (2.8.2)\n",
      "Requirement already satisfied: pytz>=2020.1 in c:\\users\\bhuvv\\appdata\\local\\programs\\python\\python312\\lib\\site-packages (from pandas==2.1.2->-r requirements.txt (line 2)) (2023.3.post1)\n",
      "Requirement already satisfied: tzdata>=2022.1 in c:\\users\\bhuvv\\appdata\\local\\programs\\python\\python312\\lib\\site-packages (from pandas==2.1.2->-r requirements.txt (line 2)) (2023.3)\n",
      "Requirement already satisfied: contourpy>=1.0.1 in c:\\users\\bhuvv\\appdata\\local\\programs\\python\\python312\\lib\\site-packages (from matplotlib==3.8.1->-r requirements.txt (line 4)) (1.1.1)\n",
      "Requirement already satisfied: cycler>=0.10 in c:\\users\\bhuvv\\appdata\\local\\programs\\python\\python312\\lib\\site-packages (from matplotlib==3.8.1->-r requirements.txt (line 4)) (0.12.1)\n",
      "Requirement already satisfied: fonttools>=4.22.0 in c:\\users\\bhuvv\\appdata\\local\\programs\\python\\python312\\lib\\site-packages (from matplotlib==3.8.1->-r requirements.txt (line 4)) (4.43.1)\n",
      "Requirement already satisfied: kiwisolver>=1.3.1 in c:\\users\\bhuvv\\appdata\\local\\programs\\python\\python312\\lib\\site-packages (from matplotlib==3.8.1->-r requirements.txt (line 4)) (1.4.5)\n",
      "Requirement already satisfied: packaging>=20.0 in c:\\users\\bhuvv\\appdata\\roaming\\python\\python312\\site-packages (from matplotlib==3.8.1->-r requirements.txt (line 4)) (23.2)\n",
      "Requirement already satisfied: pillow>=8 in c:\\users\\bhuvv\\appdata\\local\\programs\\python\\python312\\lib\\site-packages (from matplotlib==3.8.1->-r requirements.txt (line 4)) (10.1.0)\n",
      "Requirement already satisfied: pyparsing>=2.3.1 in c:\\users\\bhuvv\\appdata\\local\\programs\\python\\python312\\lib\\site-packages (from matplotlib==3.8.1->-r requirements.txt (line 4)) (3.1.1)\n",
      "Requirement already satisfied: scipy>=1.5.0 in c:\\users\\bhuvv\\appdata\\local\\programs\\python\\python312\\lib\\site-packages (from scikit-learn==1.3.2->-r requirements.txt (line 5)) (1.11.3)\n",
      "Requirement already satisfied: joblib>=1.1.1 in c:\\users\\bhuvv\\appdata\\local\\programs\\python\\python312\\lib\\site-packages (from scikit-learn==1.3.2->-r requirements.txt (line 5)) (1.3.2)\n",
      "Requirement already satisfied: threadpoolctl>=2.0.0 in c:\\users\\bhuvv\\appdata\\local\\programs\\python\\python312\\lib\\site-packages (from scikit-learn==1.3.2->-r requirements.txt (line 5)) (3.2.0)\n",
      "Requirement already satisfied: six>=1.5 in c:\\users\\bhuvv\\appdata\\roaming\\python\\python312\\site-packages (from python-dateutil>=2.8.2->pandas==2.1.2->-r requirements.txt (line 2)) (1.16.0)\n"
     ]
    }
   ],
   "source": [
    "!pip install -r requirements.txt"
   ]
  },
  {
   "cell_type": "code",
   "execution_count": 26,
   "metadata": {},
   "outputs": [],
   "source": [
    "import numpy as np\n",
    "import pandas as pd\n",
    "import seaborn as sns\n",
    "import matplotlib.pyplot as plt\n",
    "import warnings\n",
    "warnings.filterwarnings(\"ignore\")\n",
    "\n",
    "from sklearn.model_selection import train_test_split, cross_val_score\n",
    "from sklearn.preprocessing import StandardScaler\n",
    "from sklearn.metrics import r2_score, mean_absolute_error, mean_squared_error\n",
    "from sklearn.linear_model import LinearRegression\n",
    "from sklearn.model_selection import RandomizedSearchCV\n",
    "from sklearn.model_selection import KFold\n",
    "from sklearn.model_selection import GridSearchCV\n",
    "from sklearn.metrics import make_scorer\n",
    "from sklearn.ensemble import GradientBoostingRegressor\n",
    "from sklearn.ensemble import VotingRegressor\n",
    "from sklearn.linear_model import Ridge\n",
    "from sklearn.linear_model import Lasso\n",
    "from sklearn.linear_model import ElasticNet\n",
    "from sklearn.ensemble import RandomForestRegressor\n",
    "from sklearn.svm import SVR\n",
    "from xgboost import XGBRegressor\n",
    "from sklearn.preprocessing import PolynomialFeatures"
   ]
  },
  {
   "cell_type": "markdown",
   "metadata": {},
   "source": [
    "<h1 style=\"font-family: 'Times New Roman'; letter-spacing: 0.08em;\">Loading the saved NumPy arrays i.e. X_train_df, X_test_df, y_train_df, and y_test_df </h1>"
   ]
  },
  {
   "cell_type": "code",
   "execution_count": 27,
   "metadata": {},
   "outputs": [],
   "source": [
    "import numpy as np\n",
    "import pandas as pd\n",
    "X_train = np.load('../Data/X_train.npy')\n",
    "X_test = np.load('../Data/X_test.npy')\n",
    "y_train = np.load('../Data/y_train.npy')\n",
    "y_test = np.load('../Data/y_test.npy')\n",
    "X = np.load('../Data/X.npy')\n",
    "y = np.load('../Data/y.npy')"
   ]
  },
  {
   "cell_type": "markdown",
   "metadata": {},
   "source": [
    "***Declaring Evaluation functions***"
   ]
  },
  {
   "cell_type": "code",
   "execution_count": 28,
   "metadata": {},
   "outputs": [],
   "source": [
    "def rmse_cv(model):\n",
    "    rmse = np.sqrt(-cross_val_score(model, X, y, scoring=\"neg_mean_squared_error\", cv=5)).mean()\n",
    "    return rmse\n",
    "    \n",
    "\n",
    "def evaluation(y, predictions):\n",
    "    mae = mean_absolute_error(y, predictions)\n",
    "    mse = mean_squared_error(y, predictions)\n",
    "    rmse = np.sqrt(mean_squared_error(y, predictions))\n",
    "    r_squared = r2_score(y, predictions)\n",
    "    return mae, mse, rmse, r_squared"
   ]
  },
  {
   "cell_type": "markdown",
   "metadata": {},
   "source": [
    "<h1 style=\"font-family: 'Times New Roman'; letter-spacing: 0.08em;\">Regression Models</h1>"
   ]
  },
  {
   "cell_type": "markdown",
   "metadata": {},
   "source": [
    "***Defining a DataFrame to Store Evaluation Values***"
   ]
  },
  {
   "cell_type": "code",
   "execution_count": 29,
   "metadata": {},
   "outputs": [],
   "source": [
    "models = pd.DataFrame(columns=[\"Model\",\"MAE\",\"MSE\",\"RMSE\",\"R2 Score\",\"RMSE (Cross-Validation)\"])"
   ]
  },
  {
   "cell_type": "markdown",
   "metadata": {},
   "source": [
    "<h2 style=\"font-family: 'Times New Roman'; letter-spacing: 0.05em;\">Linear Regression</h2>"
   ]
  },
  {
   "cell_type": "code",
   "execution_count": 30,
   "metadata": {},
   "outputs": [
    {
     "name": "stdout",
     "output_type": "stream",
     "text": [
      "MAE: 44475.31659483561\n",
      "MSE: 2923315541.425089\n",
      "RMSE: 54067.69406424773\n",
      "R2 Score: 0.6482919977750564\n",
      "------------------------------\n",
      "RMSE Cross-Validation: 60733.56637200186\n"
     ]
    }
   ],
   "source": [
    "lin_reg = LinearRegression()\n",
    "lin_reg.fit(X_train, y_train)\n",
    "predictions = lin_reg.predict(X_test)\n",
    "\n",
    "mae, mse, rmse, r_squared = evaluation(y_test, predictions)\n",
    "print(\"MAE:\", mae)\n",
    "print(\"MSE:\", mse)\n",
    "print(\"RMSE:\", rmse)\n",
    "print(\"R2 Score:\", r_squared)\n",
    "print(\"-\"*30)\n",
    "rmse_cross_val = rmse_cv(lin_reg)\n",
    "print(\"RMSE Cross-Validation:\", rmse_cross_val)\n",
    "\n",
    "new_row = {\"Model\": \"LinearRegression\",\"MAE\": mae, \"MSE\": mse, \"RMSE\": rmse, \"R2 Score\": r_squared, \"RMSE (Cross-Validation)\": rmse_cross_val}\n",
    "new_row_df = pd.DataFrame([new_row])\n",
    "models = pd.concat([models, new_row_df], ignore_index=True)"
   ]
  },
  {
   "cell_type": "markdown",
   "metadata": {},
   "source": [
    "<h2 style=\"font-family: 'Times New Roman'; letter-spacing: 0.05em;\">Ridge Regression</h2>"
   ]
  },
  {
   "cell_type": "code",
   "execution_count": 31,
   "metadata": {},
   "outputs": [
    {
     "name": "stdout",
     "output_type": "stream",
     "text": [
      "MAE: 44475.4574183547\n",
      "MSE: 2923319361.834684\n",
      "RMSE: 54067.72939410979\n",
      "R2 Score: 0.6482915381364689\n",
      "------------------------------\n",
      "RMSE Cross-Validation: 60733.13521398554\n"
     ]
    }
   ],
   "source": [
    "ridge = Ridge()\n",
    "ridge.fit(X_train, y_train)\n",
    "predictions = ridge.predict(X_test)\n",
    "\n",
    "mae, mse, rmse, r_squared = evaluation(y_test, predictions)\n",
    "print(\"MAE:\", mae)\n",
    "print(\"MSE:\", mse)\n",
    "print(\"RMSE:\", rmse)\n",
    "print(\"R2 Score:\", r_squared)\n",
    "print(\"-\"*30)\n",
    "rmse_cross_val = rmse_cv(ridge)\n",
    "print(\"RMSE Cross-Validation:\", rmse_cross_val)\n",
    "\n",
    "new_row = {\"Model\": \"Ridge\",\"MAE\": mae, \"MSE\": mse, \"RMSE\": rmse, \"R2 Score\": r_squared, \"RMSE (Cross-Validation)\": rmse_cross_val}\n",
    "new_row_df = pd.DataFrame([new_row])\n",
    "models = pd.concat([models, new_row_df], ignore_index=True)"
   ]
  },
  {
   "cell_type": "markdown",
   "metadata": {},
   "source": [
    "<h2 style=\"font-family: 'Times New Roman'; letter-spacing: 0.05em;\">Lasso Regression</h2>"
   ]
  },
  {
   "cell_type": "code",
   "execution_count": 32,
   "metadata": {},
   "outputs": [
    {
     "name": "stdout",
     "output_type": "stream",
     "text": [
      "MAE: 44475.32600812345\n",
      "MSE: 2923314381.7932377\n",
      "RMSE: 54067.68334035811\n",
      "R2 Score: 0.6482921372919153\n",
      "------------------------------\n",
      "RMSE Cross-Validation: 60733.38246615256\n"
     ]
    }
   ],
   "source": [
    "lasso = Lasso()\n",
    "lasso.fit(X_train, y_train)\n",
    "predictions = lasso.predict(X_test)\n",
    "\n",
    "mae, mse, rmse, r_squared = evaluation(y_test, predictions)\n",
    "print(\"MAE:\", mae)\n",
    "print(\"MSE:\", mse)\n",
    "print(\"RMSE:\", rmse)\n",
    "print(\"R2 Score:\", r_squared)\n",
    "print(\"-\"*30)\n",
    "rmse_cross_val = rmse_cv(lasso)\n",
    "print(\"RMSE Cross-Validation:\", rmse_cross_val)\n",
    "\n",
    "new_row = {\"Model\": \"Lasso\",\"MAE\": mae, \"MSE\": mse, \"RMSE\": rmse, \"R2 Score\": r_squared, \"RMSE (Cross-Validation)\": rmse_cross_val}\n",
    "new_row_df = pd.DataFrame([new_row])\n",
    "models = pd.concat([models, new_row_df], ignore_index=True)"
   ]
  },
  {
   "cell_type": "markdown",
   "metadata": {},
   "source": [
    "<h2 style=\"font-family: 'Times New Roman'; letter-spacing: 0.05em;\">Elastic Net</h2>"
   ]
  },
  {
   "cell_type": "code",
   "execution_count": 33,
   "metadata": {},
   "outputs": [
    {
     "name": "stdout",
     "output_type": "stream",
     "text": [
      "MAE: 44517.06407963734\n",
      "MSE: 2924487350.6345367\n",
      "RMSE: 54078.52947921695\n",
      "R2 Score: 0.6481510158419728\n",
      "------------------------------\n",
      "RMSE Cross-Validation: 60632.36975926291\n"
     ]
    }
   ],
   "source": [
    "elastic_net = ElasticNet()\n",
    "elastic_net.fit(X_train, y_train)\n",
    "predictions = elastic_net.predict(X_test)\n",
    "\n",
    "mae, mse, rmse, r_squared = evaluation(y_test, predictions)\n",
    "print(\"MAE:\", mae)\n",
    "print(\"MSE:\", mse)\n",
    "print(\"RMSE:\", rmse)\n",
    "print(\"R2 Score:\", r_squared)\n",
    "print(\"-\"*30)\n",
    "rmse_cross_val = rmse_cv(elastic_net)\n",
    "print(\"RMSE Cross-Validation:\", rmse_cross_val)\n",
    "\n",
    "new_row = {\"Model\": \"ElasticNet\",\"MAE\": mae, \"MSE\": mse, \"RMSE\": rmse, \"R2 Score\": r_squared, \"RMSE (Cross-Validation)\": rmse_cross_val}\n",
    "new_row_df = pd.DataFrame([new_row])\n",
    "models = pd.concat([models, new_row_df], ignore_index=True)"
   ]
  },
  {
   "cell_type": "markdown",
   "metadata": {},
   "source": [
    "<h2 style=\"font-family: 'Times New Roman'; letter-spacing: 0.05em;\">Support Vector Machines</h2>"
   ]
  },
  {
   "cell_type": "code",
   "execution_count": 34,
   "metadata": {},
   "outputs": [
    {
     "name": "stdout",
     "output_type": "stream",
     "text": [
      "MAE: 59690.95624145081\n",
      "MSE: 4511273073.446866\n",
      "RMSE: 67166.01129624169\n",
      "R2 Score: 0.4572427034750751\n",
      "------------------------------\n"
     ]
    },
    {
     "name": "stdout",
     "output_type": "stream",
     "text": [
      "RMSE Cross-Validation: 70272.87803912575\n"
     ]
    }
   ],
   "source": [
    "svr = SVR(C=100000)\n",
    "svr.fit(X_train, y_train)\n",
    "predictions = svr.predict(X_test)\n",
    "\n",
    "mae, mse, rmse, r_squared = evaluation(y_test, predictions)\n",
    "print(\"MAE:\", mae)\n",
    "print(\"MSE:\", mse)\n",
    "print(\"RMSE:\", rmse)\n",
    "print(\"R2 Score:\", r_squared)\n",
    "print(\"-\"*30)\n",
    "rmse_cross_val = rmse_cv(svr)\n",
    "print(\"RMSE Cross-Validation:\", rmse_cross_val)\n",
    "\n",
    "new_row = {\"Model\": \"SVR\",\"MAE\": mae, \"MSE\": mse, \"RMSE\": rmse, \"R2 Score\": r_squared, \"RMSE (Cross-Validation)\": rmse_cross_val}\n",
    "new_row_df = pd.DataFrame([new_row])\n",
    "models = pd.concat([models, new_row_df], ignore_index=True)"
   ]
  },
  {
   "cell_type": "markdown",
   "metadata": {},
   "source": [
    "<h2 style=\"font-family: 'Times New Roman'; letter-spacing: 0.05em;\">Random Forest Regressor</h2>"
   ]
  },
  {
   "cell_type": "code",
   "execution_count": 35,
   "metadata": {},
   "outputs": [
    {
     "name": "stdout",
     "output_type": "stream",
     "text": [
      "MAE: 21434.495600000002\n",
      "MSE: 1291998593.4162812\n",
      "RMSE: 35944.38194511461\n",
      "R2 Score: 0.8445579213982632\n",
      "------------------------------\n",
      "RMSE Cross-Validation: 44109.49281026444\n"
     ]
    }
   ],
   "source": [
    "random_forest = RandomForestRegressor(n_estimators=100)\n",
    "random_forest.fit(X_train, y_train)\n",
    "predictions = random_forest.predict(X_test)\n",
    "\n",
    "mae, mse, rmse, r_squared = evaluation(y_test, predictions)\n",
    "print(\"MAE:\", mae)\n",
    "print(\"MSE:\", mse)\n",
    "print(\"RMSE:\", rmse)\n",
    "print(\"R2 Score:\", r_squared)\n",
    "print(\"-\"*30)\n",
    "rmse_cross_val = rmse_cv(random_forest)\n",
    "print(\"RMSE Cross-Validation:\", rmse_cross_val)\n",
    "\n",
    "new_row = {\"Model\": \"RandomForestRegressor\",\"MAE\": mae, \"MSE\": mse, \"RMSE\": rmse, \"R2 Score\": r_squared, \"RMSE (Cross-Validation)\": rmse_cross_val}\n",
    "new_row_df = pd.DataFrame([new_row])\n",
    "models = pd.concat([models, new_row_df], ignore_index=True)"
   ]
  },
  {
   "cell_type": "markdown",
   "metadata": {},
   "source": [
    "<h2 style=\"font-family: 'Times New Roman'; letter-spacing: 0.05em;\">XGBoost Regressor</h2>"
   ]
  },
  {
   "cell_type": "code",
   "execution_count": 36,
   "metadata": {},
   "outputs": [
    {
     "name": "stdout",
     "output_type": "stream",
     "text": [
      "MAE: 24448.031484375\n",
      "MSE: 1655791068.886847\n",
      "RMSE: 40691.412716774124\n",
      "R2 Score: 0.8007895621639927\n",
      "------------------------------\n",
      "RMSE Cross-Validation: 48923.41742481436\n"
     ]
    }
   ],
   "source": [
    "xgb = XGBRegressor(n_estimators=1000, learning_rate=0.01)\n",
    "xgb.fit(X_train, y_train)\n",
    "predictions = xgb.predict(X_test)\n",
    "\n",
    "mae, mse, rmse, r_squared = evaluation(y_test, predictions)\n",
    "print(\"MAE:\", mae)\n",
    "print(\"MSE:\", mse)\n",
    "print(\"RMSE:\", rmse)\n",
    "print(\"R2 Score:\", r_squared)\n",
    "print(\"-\"*30)\n",
    "rmse_cross_val = rmse_cv(xgb)\n",
    "print(\"RMSE Cross-Validation:\", rmse_cross_val)\n",
    "\n",
    "new_row = {\"Model\": \"XGBRegressor\",\"MAE\": mae, \"MSE\": mse, \"RMSE\": rmse, \"R2 Score\": r_squared, \"RMSE (Cross-Validation)\": rmse_cross_val}\n",
    "new_row_df = pd.DataFrame([new_row])\n",
    "models = pd.concat([models, new_row_df], ignore_index=True)"
   ]
  },
  {
   "cell_type": "markdown",
   "metadata": {},
   "source": [
    "<h1 style=\"font-family: 'Times New Roman'; letter-spacing: 0.08em;\">Model Comparison</h1>"
   ]
  },
  {
   "cell_type": "markdown",
   "metadata": {},
   "source": [
    "***The model's performance improves as the Root Mean Squared Error (RMSE) decreases.***"
   ]
  },
  {
   "cell_type": "code",
   "execution_count": 37,
   "metadata": {},
   "outputs": [
    {
     "data": {
      "text/html": [
       "<div>\n",
       "<style scoped>\n",
       "    .dataframe tbody tr th:only-of-type {\n",
       "        vertical-align: middle;\n",
       "    }\n",
       "\n",
       "    .dataframe tbody tr th {\n",
       "        vertical-align: top;\n",
       "    }\n",
       "\n",
       "    .dataframe thead th {\n",
       "        text-align: right;\n",
       "    }\n",
       "</style>\n",
       "<table border=\"1\" class=\"dataframe\">\n",
       "  <thead>\n",
       "    <tr style=\"text-align: right;\">\n",
       "      <th></th>\n",
       "      <th>Model</th>\n",
       "      <th>MAE</th>\n",
       "      <th>MSE</th>\n",
       "      <th>RMSE</th>\n",
       "      <th>R2 Score</th>\n",
       "      <th>RMSE (Cross-Validation)</th>\n",
       "    </tr>\n",
       "  </thead>\n",
       "  <tbody>\n",
       "    <tr>\n",
       "      <th>5</th>\n",
       "      <td>RandomForestRegressor</td>\n",
       "      <td>21434.495600</td>\n",
       "      <td>1.291999e+09</td>\n",
       "      <td>35944.381945</td>\n",
       "      <td>0.844558</td>\n",
       "      <td>44109.492810</td>\n",
       "    </tr>\n",
       "    <tr>\n",
       "      <th>6</th>\n",
       "      <td>XGBRegressor</td>\n",
       "      <td>24448.031484</td>\n",
       "      <td>1.655791e+09</td>\n",
       "      <td>40691.412717</td>\n",
       "      <td>0.800790</td>\n",
       "      <td>48923.417425</td>\n",
       "    </tr>\n",
       "    <tr>\n",
       "      <th>3</th>\n",
       "      <td>ElasticNet</td>\n",
       "      <td>44517.064080</td>\n",
       "      <td>2.924487e+09</td>\n",
       "      <td>54078.529479</td>\n",
       "      <td>0.648151</td>\n",
       "      <td>60632.369759</td>\n",
       "    </tr>\n",
       "    <tr>\n",
       "      <th>1</th>\n",
       "      <td>Ridge</td>\n",
       "      <td>44475.457418</td>\n",
       "      <td>2.923319e+09</td>\n",
       "      <td>54067.729394</td>\n",
       "      <td>0.648292</td>\n",
       "      <td>60733.135214</td>\n",
       "    </tr>\n",
       "    <tr>\n",
       "      <th>2</th>\n",
       "      <td>Lasso</td>\n",
       "      <td>44475.326008</td>\n",
       "      <td>2.923314e+09</td>\n",
       "      <td>54067.683340</td>\n",
       "      <td>0.648292</td>\n",
       "      <td>60733.382466</td>\n",
       "    </tr>\n",
       "    <tr>\n",
       "      <th>0</th>\n",
       "      <td>LinearRegression</td>\n",
       "      <td>44475.316595</td>\n",
       "      <td>2.923316e+09</td>\n",
       "      <td>54067.694064</td>\n",
       "      <td>0.648292</td>\n",
       "      <td>60733.566372</td>\n",
       "    </tr>\n",
       "    <tr>\n",
       "      <th>4</th>\n",
       "      <td>SVR</td>\n",
       "      <td>59690.956241</td>\n",
       "      <td>4.511273e+09</td>\n",
       "      <td>67166.011296</td>\n",
       "      <td>0.457243</td>\n",
       "      <td>70272.878039</td>\n",
       "    </tr>\n",
       "  </tbody>\n",
       "</table>\n",
       "</div>"
      ],
      "text/plain": [
       "                   Model           MAE           MSE          RMSE  R2 Score  \\\n",
       "5  RandomForestRegressor  21434.495600  1.291999e+09  35944.381945  0.844558   \n",
       "6           XGBRegressor  24448.031484  1.655791e+09  40691.412717  0.800790   \n",
       "3             ElasticNet  44517.064080  2.924487e+09  54078.529479  0.648151   \n",
       "1                  Ridge  44475.457418  2.923319e+09  54067.729394  0.648292   \n",
       "2                  Lasso  44475.326008  2.923314e+09  54067.683340  0.648292   \n",
       "0       LinearRegression  44475.316595  2.923316e+09  54067.694064  0.648292   \n",
       "4                    SVR  59690.956241  4.511273e+09  67166.011296  0.457243   \n",
       "\n",
       "   RMSE (Cross-Validation)  \n",
       "5             44109.492810  \n",
       "6             48923.417425  \n",
       "3             60632.369759  \n",
       "1             60733.135214  \n",
       "2             60733.382466  \n",
       "0             60733.566372  \n",
       "4             70272.878039  "
      ]
     },
     "execution_count": 37,
     "metadata": {},
     "output_type": "execute_result"
    }
   ],
   "source": [
    "models.sort_values(by=\"RMSE (Cross-Validation)\")"
   ]
  },
  {
   "cell_type": "markdown",
   "metadata": {},
   "source": [
    "***RMSE (Cross-Validation) is less in ElasticNet Model***"
   ]
  },
  {
   "cell_type": "code",
   "execution_count": 38,
   "metadata": {},
   "outputs": [
    {
     "data": {
      "image/png": "[encoded data removed]",
      "text/plain": [
       "<Figure size 1200x800 with 1 Axes>"
      ]
     },
     "metadata": {},
     "output_type": "display_data"
    }
   ],
   "source": [
    "sorted_models = models.sort_values(by='RMSE (Cross-Validation)', ascending=False)\n",
    "\n",
    "plt.figure(figsize=(12, 8))\n",
    "sns.barplot(x='Model', y='RMSE (Cross-Validation)', data=sorted_models, color='skyblue')\n",
    "plt.title(\"Models' RMSE Scores (Cross-Validated) - Descending Order\", size=15)\n",
    "plt.xticks(rotation=30, size=12)\n",
    "plt.ylabel('RMSE (Cross-Validation)')\n",
    "plt.xlabel('Model')\n",
    "plt.grid(axis='y')\n",
    "plt.show()"
   ]
  },
  {
   "cell_type": "markdown",
   "metadata": {},
   "source": [
    "<h1 style=\"font-family: 'Times New Roman'; letter-spacing: 0.08em;\">Build Random Forest Regressor with best parameters</h1>"
   ]
  },
  {
   "cell_type": "code",
   "execution_count": 53,
   "metadata": {},
   "outputs": [
    {
     "name": "stdout",
     "output_type": "stream",
     "text": [
      "MAE: 21928.80059864356\n",
      "MSE: 1279352369.2035987\n",
      "RMSE: 35768.03557932136\n",
      "R2 Score: 0.8460794055454597\n",
      "------------------------------\n",
      "RMSE Cross-Validation: 44020.52540760181\n"
     ]
    }
   ],
   "source": [
    "param_grid = {\n",
    "    'n_estimators': [100, 200, 300],\n",
    "    'max_depth': [None, 10, 20],\n",
    "    'min_samples_split': [2, 5, 10],\n",
    "    'min_samples_leaf': [1, 2, 4]\n",
    "}\n",
    "\n",
    "random_forest = RandomForestRegressor()\n",
    "\n",
    "grid_search = GridSearchCV(estimator=random_forest, param_grid=param_grid, cv=5, \n",
    "                           scoring='neg_mean_squared_error', n_jobs=-1)\n",
    "grid_search.fit(X_train, y_train)\n",
    "\n",
    "best_params = grid_search.best_params_\n",
    "\n",
    "best_random_forest = grid_search.best_estimator_\n",
    "best_random_forest.fit(X_train, y_train)\n",
    "\n",
    "best_predictions = best_random_forest.predict(X_test)\n",
    "\n",
    "mae, mse, rmse, r_squared = evaluation(y_test, best_predictions)\n",
    "print(\"MAE:\", mae)\n",
    "print(\"MSE:\", mse)\n",
    "print(\"RMSE:\", rmse)\n",
    "print(\"R2 Score:\", r_squared)\n",
    "print(\"-\"*30)\n",
    "rmse_cross_val = rmse_cv(best_random_forest)\n",
    "print(\"RMSE Cross-Validation:\", rmse_cross_val)\n"
   ]
  },
  {
   "cell_type": "markdown",
   "metadata": {},
   "source": [
    "## <span style=\"font-family: 'Times New Roman'\">Why I Choose RMSE Over MAE</span>\n",
    "\n",
    "- ***I have selected RMSE (Root Mean Square Error) instead of MAE (Mean Absolute Error) because RMSE gives higher weight to larger errors.***\n",
    "- ***This helps capture significant errors better, providing a clearer picture of how well our predictive model performs.***\n"
   ]
  },
  {
   "cell_type": "markdown",
   "metadata": {},
   "source": [
    "***Serialize the Model:***"
   ]
  },
  {
   "cell_type": "code",
   "execution_count": 54,
   "metadata": {},
   "outputs": [
    {
     "data": {
      "text/plain": [
       "['model.pkl']"
      ]
     },
     "execution_count": 54,
     "metadata": {},
     "output_type": "execute_result"
    }
   ],
   "source": [
    "import joblib\n",
    "joblib.dump(best_random_forest, 'model.pkl')"
   ]
  }
 ],
 "metadata": {
  "kernelspec": {
   "display_name": "Python 3",
   "language": "python",
   "name": "python3"
  },
  "language_info": {
   "codemirror_mode": {
    "name": "ipython",
    "version": 3
   },
   "file_extension": ".py",
   "mimetype": "text/x-python",
   "name": "python",
   "nbconvert_exporter": "python",
   "pygments_lexer": "ipython3",
   "version": "3.12.0"
  }
 },
 "nbformat": 4,
 "nbformat_minor": 2
}
